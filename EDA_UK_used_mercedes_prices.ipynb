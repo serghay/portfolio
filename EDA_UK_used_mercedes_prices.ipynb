{
 "cells": [
  {
   "cell_type": "code",
   "execution_count": 365,
   "id": "c88cea6a",
   "metadata": {},
   "outputs": [],
   "source": [
    "import pandas as pd\n",
    "import numpy as np\n",
    "import matplotlib\n",
    "import matplotlib.pyplot as plt\n",
    "import seaborn as sns\n",
    "from scipy import stats\n",
    "matplotlib.style.use('ggplot')\n",
    "%matplotlib inline"
   ]
  },
  {
   "cell_type": "code",
   "execution_count": 366,
   "id": "a42f5cdb",
   "metadata": {},
   "outputs": [],
   "source": [
    "uk_merc = pd.read_csv('../data/UK_car_prices/merc.csv')"
   ]
  },
  {
   "cell_type": "markdown",
   "id": "da6d18c1",
   "metadata": {},
   "source": [
    "Let's have the first look at the data"
   ]
  },
  {
   "cell_type": "code",
   "execution_count": 367,
   "id": "4904542e",
   "metadata": {},
   "outputs": [
    {
     "data": {
      "text/plain": [
       "(13119, 9)"
      ]
     },
     "execution_count": 367,
     "metadata": {},
     "output_type": "execute_result"
    }
   ],
   "source": [
    "uk_merc.shape"
   ]
  },
  {
   "cell_type": "code",
   "execution_count": 368,
   "id": "417dfeea",
   "metadata": {},
   "outputs": [
    {
     "data": {
      "text/html": [
       "<div>\n",
       "<style scoped>\n",
       "    .dataframe tbody tr th:only-of-type {\n",
       "        vertical-align: middle;\n",
       "    }\n",
       "\n",
       "    .dataframe tbody tr th {\n",
       "        vertical-align: top;\n",
       "    }\n",
       "\n",
       "    .dataframe thead th {\n",
       "        text-align: right;\n",
       "    }\n",
       "</style>\n",
       "<table border=\"1\" class=\"dataframe\">\n",
       "  <thead>\n",
       "    <tr style=\"text-align: right;\">\n",
       "      <th></th>\n",
       "      <th>model</th>\n",
       "      <th>year</th>\n",
       "      <th>price</th>\n",
       "      <th>transmission</th>\n",
       "      <th>mileage</th>\n",
       "      <th>fuelType</th>\n",
       "      <th>tax</th>\n",
       "      <th>mpg</th>\n",
       "      <th>engineSize</th>\n",
       "    </tr>\n",
       "  </thead>\n",
       "  <tbody>\n",
       "    <tr>\n",
       "      <th>0</th>\n",
       "      <td>SLK</td>\n",
       "      <td>2005</td>\n",
       "      <td>5200</td>\n",
       "      <td>Automatic</td>\n",
       "      <td>63000</td>\n",
       "      <td>Petrol</td>\n",
       "      <td>325</td>\n",
       "      <td>32.1</td>\n",
       "      <td>1.8</td>\n",
       "    </tr>\n",
       "    <tr>\n",
       "      <th>1</th>\n",
       "      <td>S Class</td>\n",
       "      <td>2017</td>\n",
       "      <td>34948</td>\n",
       "      <td>Automatic</td>\n",
       "      <td>27000</td>\n",
       "      <td>Hybrid</td>\n",
       "      <td>20</td>\n",
       "      <td>61.4</td>\n",
       "      <td>2.1</td>\n",
       "    </tr>\n",
       "    <tr>\n",
       "      <th>2</th>\n",
       "      <td>SL CLASS</td>\n",
       "      <td>2016</td>\n",
       "      <td>49948</td>\n",
       "      <td>Automatic</td>\n",
       "      <td>6200</td>\n",
       "      <td>Petrol</td>\n",
       "      <td>555</td>\n",
       "      <td>28.0</td>\n",
       "      <td>5.5</td>\n",
       "    </tr>\n",
       "    <tr>\n",
       "      <th>3</th>\n",
       "      <td>G Class</td>\n",
       "      <td>2016</td>\n",
       "      <td>61948</td>\n",
       "      <td>Automatic</td>\n",
       "      <td>16000</td>\n",
       "      <td>Petrol</td>\n",
       "      <td>325</td>\n",
       "      <td>30.4</td>\n",
       "      <td>4.0</td>\n",
       "    </tr>\n",
       "    <tr>\n",
       "      <th>4</th>\n",
       "      <td>G Class</td>\n",
       "      <td>2016</td>\n",
       "      <td>73948</td>\n",
       "      <td>Automatic</td>\n",
       "      <td>4000</td>\n",
       "      <td>Petrol</td>\n",
       "      <td>325</td>\n",
       "      <td>30.1</td>\n",
       "      <td>4.0</td>\n",
       "    </tr>\n",
       "  </tbody>\n",
       "</table>\n",
       "</div>"
      ],
      "text/plain": [
       "       model  year  price transmission  mileage fuelType  tax   mpg  \\\n",
       "0        SLK  2005   5200    Automatic    63000   Petrol  325  32.1   \n",
       "1    S Class  2017  34948    Automatic    27000   Hybrid   20  61.4   \n",
       "2   SL CLASS  2016  49948    Automatic     6200   Petrol  555  28.0   \n",
       "3    G Class  2016  61948    Automatic    16000   Petrol  325  30.4   \n",
       "4    G Class  2016  73948    Automatic     4000   Petrol  325  30.1   \n",
       "\n",
       "   engineSize  \n",
       "0         1.8  \n",
       "1         2.1  \n",
       "2         5.5  \n",
       "3         4.0  \n",
       "4         4.0  "
      ]
     },
     "execution_count": 368,
     "metadata": {},
     "output_type": "execute_result"
    }
   ],
   "source": [
    "uk_merc.head()"
   ]
  },
  {
   "cell_type": "code",
   "execution_count": 369,
   "id": "5ac875d4",
   "metadata": {},
   "outputs": [
    {
     "data": {
      "text/html": [
       "<div>\n",
       "<style scoped>\n",
       "    .dataframe tbody tr th:only-of-type {\n",
       "        vertical-align: middle;\n",
       "    }\n",
       "\n",
       "    .dataframe tbody tr th {\n",
       "        vertical-align: top;\n",
       "    }\n",
       "\n",
       "    .dataframe thead th {\n",
       "        text-align: right;\n",
       "    }\n",
       "</style>\n",
       "<table border=\"1\" class=\"dataframe\">\n",
       "  <thead>\n",
       "    <tr style=\"text-align: right;\">\n",
       "      <th></th>\n",
       "      <th>year</th>\n",
       "      <th>price</th>\n",
       "      <th>mileage</th>\n",
       "      <th>tax</th>\n",
       "      <th>mpg</th>\n",
       "      <th>engineSize</th>\n",
       "    </tr>\n",
       "  </thead>\n",
       "  <tbody>\n",
       "    <tr>\n",
       "      <th>count</th>\n",
       "      <td>13119.000000</td>\n",
       "      <td>13119.000000</td>\n",
       "      <td>13119.000000</td>\n",
       "      <td>13119.000000</td>\n",
       "      <td>13119.000000</td>\n",
       "      <td>13119.000000</td>\n",
       "    </tr>\n",
       "    <tr>\n",
       "      <th>mean</th>\n",
       "      <td>2017.296288</td>\n",
       "      <td>24698.596920</td>\n",
       "      <td>21949.559037</td>\n",
       "      <td>129.972178</td>\n",
       "      <td>55.155843</td>\n",
       "      <td>2.071530</td>\n",
       "    </tr>\n",
       "    <tr>\n",
       "      <th>std</th>\n",
       "      <td>2.224709</td>\n",
       "      <td>11842.675542</td>\n",
       "      <td>21176.512267</td>\n",
       "      <td>65.260286</td>\n",
       "      <td>15.220082</td>\n",
       "      <td>0.572426</td>\n",
       "    </tr>\n",
       "    <tr>\n",
       "      <th>min</th>\n",
       "      <td>1970.000000</td>\n",
       "      <td>650.000000</td>\n",
       "      <td>1.000000</td>\n",
       "      <td>0.000000</td>\n",
       "      <td>1.100000</td>\n",
       "      <td>0.000000</td>\n",
       "    </tr>\n",
       "    <tr>\n",
       "      <th>25%</th>\n",
       "      <td>2016.000000</td>\n",
       "      <td>17450.000000</td>\n",
       "      <td>6097.500000</td>\n",
       "      <td>125.000000</td>\n",
       "      <td>45.600000</td>\n",
       "      <td>1.800000</td>\n",
       "    </tr>\n",
       "    <tr>\n",
       "      <th>50%</th>\n",
       "      <td>2018.000000</td>\n",
       "      <td>22480.000000</td>\n",
       "      <td>15189.000000</td>\n",
       "      <td>145.000000</td>\n",
       "      <td>56.500000</td>\n",
       "      <td>2.000000</td>\n",
       "    </tr>\n",
       "    <tr>\n",
       "      <th>75%</th>\n",
       "      <td>2019.000000</td>\n",
       "      <td>28980.000000</td>\n",
       "      <td>31779.500000</td>\n",
       "      <td>145.000000</td>\n",
       "      <td>64.200000</td>\n",
       "      <td>2.100000</td>\n",
       "    </tr>\n",
       "    <tr>\n",
       "      <th>max</th>\n",
       "      <td>2020.000000</td>\n",
       "      <td>159999.000000</td>\n",
       "      <td>259000.000000</td>\n",
       "      <td>580.000000</td>\n",
       "      <td>217.300000</td>\n",
       "      <td>6.200000</td>\n",
       "    </tr>\n",
       "  </tbody>\n",
       "</table>\n",
       "</div>"
      ],
      "text/plain": [
       "               year          price        mileage           tax           mpg  \\\n",
       "count  13119.000000   13119.000000   13119.000000  13119.000000  13119.000000   \n",
       "mean    2017.296288   24698.596920   21949.559037    129.972178     55.155843   \n",
       "std        2.224709   11842.675542   21176.512267     65.260286     15.220082   \n",
       "min     1970.000000     650.000000       1.000000      0.000000      1.100000   \n",
       "25%     2016.000000   17450.000000    6097.500000    125.000000     45.600000   \n",
       "50%     2018.000000   22480.000000   15189.000000    145.000000     56.500000   \n",
       "75%     2019.000000   28980.000000   31779.500000    145.000000     64.200000   \n",
       "max     2020.000000  159999.000000  259000.000000    580.000000    217.300000   \n",
       "\n",
       "         engineSize  \n",
       "count  13119.000000  \n",
       "mean       2.071530  \n",
       "std        0.572426  \n",
       "min        0.000000  \n",
       "25%        1.800000  \n",
       "50%        2.000000  \n",
       "75%        2.100000  \n",
       "max        6.200000  "
      ]
     },
     "execution_count": 369,
     "metadata": {},
     "output_type": "execute_result"
    }
   ],
   "source": [
    "uk_merc.describe()"
   ]
  },
  {
   "cell_type": "code",
   "execution_count": 370,
   "id": "6ee9cef1",
   "metadata": {},
   "outputs": [
    {
     "name": "stdout",
     "output_type": "stream",
     "text": [
      "<class 'pandas.core.frame.DataFrame'>\n",
      "RangeIndex: 13119 entries, 0 to 13118\n",
      "Data columns (total 9 columns):\n",
      " #   Column        Non-Null Count  Dtype  \n",
      "---  ------        --------------  -----  \n",
      " 0   model         13119 non-null  object \n",
      " 1   year          13119 non-null  int64  \n",
      " 2   price         13119 non-null  int64  \n",
      " 3   transmission  13119 non-null  object \n",
      " 4   mileage       13119 non-null  int64  \n",
      " 5   fuelType      13119 non-null  object \n",
      " 6   tax           13119 non-null  int64  \n",
      " 7   mpg           13119 non-null  float64\n",
      " 8   engineSize    13119 non-null  float64\n",
      "dtypes: float64(2), int64(4), object(3)\n",
      "memory usage: 922.6+ KB\n"
     ]
    }
   ],
   "source": [
    "uk_merc.info()"
   ]
  },
  {
   "cell_type": "markdown",
   "id": "5a4c6495",
   "metadata": {},
   "source": [
    "Now see how our merces distributed by every variable, check for NaNs, ouliers, missing or incorrect values"
   ]
  },
  {
   "cell_type": "code",
   "execution_count": 371,
   "id": "f6e800d0",
   "metadata": {},
   "outputs": [
    {
     "data": {
      "text/plain": [
       "array([' SLK', ' S Class', ' SL CLASS', ' G Class', ' GLE Class',\n",
       "       ' GLA Class', ' A Class', ' B Class', ' GLC Class', ' C Class',\n",
       "       ' E Class', ' GL Class', ' CLS Class', ' CLC Class', ' CLA Class',\n",
       "       ' V Class', ' M Class', ' CL Class', ' GLS Class', ' GLB Class',\n",
       "       ' X-CLASS', '180', ' CLK', ' R Class', '230', '220', '200'],\n",
       "      dtype=object)"
      ]
     },
     "execution_count": 371,
     "metadata": {},
     "output_type": "execute_result"
    }
   ],
   "source": [
    "uk_merc['model'].unique()"
   ]
  },
  {
   "cell_type": "code",
   "execution_count": 372,
   "id": "b9c2346b",
   "metadata": {},
   "outputs": [
    {
     "data": {
      "text/html": [
       "<div>\n",
       "<style scoped>\n",
       "    .dataframe tbody tr th:only-of-type {\n",
       "        vertical-align: middle;\n",
       "    }\n",
       "\n",
       "    .dataframe tbody tr th {\n",
       "        vertical-align: top;\n",
       "    }\n",
       "\n",
       "    .dataframe thead th {\n",
       "        text-align: right;\n",
       "    }\n",
       "</style>\n",
       "<table border=\"1\" class=\"dataframe\">\n",
       "  <thead>\n",
       "    <tr style=\"text-align: right;\">\n",
       "      <th></th>\n",
       "      <th>model</th>\n",
       "      <th>year</th>\n",
       "      <th>price</th>\n",
       "      <th>transmission</th>\n",
       "      <th>mileage</th>\n",
       "      <th>fuelType</th>\n",
       "      <th>tax</th>\n",
       "      <th>mpg</th>\n",
       "      <th>engineSize</th>\n",
       "    </tr>\n",
       "  </thead>\n",
       "  <tbody>\n",
       "    <tr>\n",
       "      <th>10463</th>\n",
       "      <td>180</td>\n",
       "      <td>2014</td>\n",
       "      <td>10799</td>\n",
       "      <td>Manual</td>\n",
       "      <td>39240</td>\n",
       "      <td>Diesel</td>\n",
       "      <td>20</td>\n",
       "      <td>72.4</td>\n",
       "      <td>1.5</td>\n",
       "    </tr>\n",
       "    <tr>\n",
       "      <th>11347</th>\n",
       "      <td>230</td>\n",
       "      <td>2007</td>\n",
       "      <td>4500</td>\n",
       "      <td>Automatic</td>\n",
       "      <td>94000</td>\n",
       "      <td>Petrol</td>\n",
       "      <td>520</td>\n",
       "      <td>29.4</td>\n",
       "      <td>0.0</td>\n",
       "    </tr>\n",
       "    <tr>\n",
       "      <th>11995</th>\n",
       "      <td>220</td>\n",
       "      <td>2018</td>\n",
       "      <td>19995</td>\n",
       "      <td>Automatic</td>\n",
       "      <td>9814</td>\n",
       "      <td>Diesel</td>\n",
       "      <td>145</td>\n",
       "      <td>61.4</td>\n",
       "      <td>2.0</td>\n",
       "    </tr>\n",
       "    <tr>\n",
       "      <th>11996</th>\n",
       "      <td>200</td>\n",
       "      <td>2018</td>\n",
       "      <td>19495</td>\n",
       "      <td>Manual</td>\n",
       "      <td>15113</td>\n",
       "      <td>Diesel</td>\n",
       "      <td>145</td>\n",
       "      <td>64.2</td>\n",
       "      <td>2.2</td>\n",
       "    </tr>\n",
       "  </tbody>\n",
       "</table>\n",
       "</div>"
      ],
      "text/plain": [
       "      model  year  price transmission  mileage fuelType  tax   mpg  engineSize\n",
       "10463   180  2014  10799       Manual    39240   Diesel   20  72.4         1.5\n",
       "11347   230  2007   4500    Automatic    94000   Petrol  520  29.4         0.0\n",
       "11995   220  2018  19995    Automatic     9814   Diesel  145  61.4         2.0\n",
       "11996   200  2018  19495       Manual    15113   Diesel  145  64.2         2.2"
      ]
     },
     "execution_count": 372,
     "metadata": {},
     "output_type": "execute_result"
    }
   ],
   "source": [
    "uk_merc[uk_merc['model'].isin(['180', '220', '230', '200'])]"
   ]
  },
  {
   "cell_type": "markdown",
   "id": "40b2e08e",
   "metadata": {},
   "source": [
    "It's a mistake, lets delete these rows"
   ]
  },
  {
   "cell_type": "code",
   "execution_count": 373,
   "id": "ce9b9fda",
   "metadata": {},
   "outputs": [],
   "source": [
    "uk_merc.drop([10463, 11347, 11995, 11996], inplace=True)"
   ]
  },
  {
   "cell_type": "code",
   "execution_count": 374,
   "id": "1f8b3c34",
   "metadata": {},
   "outputs": [
    {
     "data": {
      "text/html": [
       "<div>\n",
       "<style scoped>\n",
       "    .dataframe tbody tr th:only-of-type {\n",
       "        vertical-align: middle;\n",
       "    }\n",
       "\n",
       "    .dataframe tbody tr th {\n",
       "        vertical-align: top;\n",
       "    }\n",
       "\n",
       "    .dataframe thead th {\n",
       "        text-align: right;\n",
       "    }\n",
       "</style>\n",
       "<table border=\"1\" class=\"dataframe\">\n",
       "  <thead>\n",
       "    <tr style=\"text-align: right;\">\n",
       "      <th></th>\n",
       "      <th>model</th>\n",
       "      <th>year</th>\n",
       "      <th>price</th>\n",
       "      <th>transmission</th>\n",
       "      <th>mileage</th>\n",
       "      <th>fuelType</th>\n",
       "      <th>tax</th>\n",
       "      <th>mpg</th>\n",
       "      <th>engineSize</th>\n",
       "    </tr>\n",
       "  </thead>\n",
       "  <tbody>\n",
       "    <tr>\n",
       "      <th>493</th>\n",
       "      <td>V Class</td>\n",
       "      <td>2018</td>\n",
       "      <td>19998</td>\n",
       "      <td>Manual</td>\n",
       "      <td>27222</td>\n",
       "      <td>Diesel</td>\n",
       "      <td>145</td>\n",
       "      <td>46.3</td>\n",
       "      <td>2.1</td>\n",
       "    </tr>\n",
       "    <tr>\n",
       "      <th>494</th>\n",
       "      <td>V Class</td>\n",
       "      <td>2016</td>\n",
       "      <td>17998</td>\n",
       "      <td>Manual</td>\n",
       "      <td>21981</td>\n",
       "      <td>Diesel</td>\n",
       "      <td>200</td>\n",
       "      <td>46.3</td>\n",
       "      <td>2.1</td>\n",
       "    </tr>\n",
       "    <tr>\n",
       "      <th>1328</th>\n",
       "      <td>GLB Class</td>\n",
       "      <td>2020</td>\n",
       "      <td>35400</td>\n",
       "      <td>Semi-Auto</td>\n",
       "      <td>2000</td>\n",
       "      <td>Diesel</td>\n",
       "      <td>145</td>\n",
       "      <td>46.3</td>\n",
       "      <td>2.0</td>\n",
       "    </tr>\n",
       "    <tr>\n",
       "      <th>1505</th>\n",
       "      <td>E Class</td>\n",
       "      <td>2016</td>\n",
       "      <td>15995</td>\n",
       "      <td>Semi-Auto</td>\n",
       "      <td>60931</td>\n",
       "      <td>Diesel</td>\n",
       "      <td>125</td>\n",
       "      <td>58.9</td>\n",
       "      <td>2.1</td>\n",
       "    </tr>\n",
       "    <tr>\n",
       "      <th>1506</th>\n",
       "      <td>C Class</td>\n",
       "      <td>2018</td>\n",
       "      <td>19950</td>\n",
       "      <td>Semi-Auto</td>\n",
       "      <td>33082</td>\n",
       "      <td>Diesel</td>\n",
       "      <td>145</td>\n",
       "      <td>64.2</td>\n",
       "      <td>2.1</td>\n",
       "    </tr>\n",
       "    <tr>\n",
       "      <th>...</th>\n",
       "      <td>...</td>\n",
       "      <td>...</td>\n",
       "      <td>...</td>\n",
       "      <td>...</td>\n",
       "      <td>...</td>\n",
       "      <td>...</td>\n",
       "      <td>...</td>\n",
       "      <td>...</td>\n",
       "      <td>...</td>\n",
       "    </tr>\n",
       "    <tr>\n",
       "      <th>10517</th>\n",
       "      <td>E Class</td>\n",
       "      <td>2015</td>\n",
       "      <td>18995</td>\n",
       "      <td>Automatic</td>\n",
       "      <td>7315</td>\n",
       "      <td>Diesel</td>\n",
       "      <td>160</td>\n",
       "      <td>50.4</td>\n",
       "      <td>3.0</td>\n",
       "    </tr>\n",
       "    <tr>\n",
       "      <th>10518</th>\n",
       "      <td>E Class</td>\n",
       "      <td>2015</td>\n",
       "      <td>18995</td>\n",
       "      <td>Automatic</td>\n",
       "      <td>7315</td>\n",
       "      <td>Diesel</td>\n",
       "      <td>160</td>\n",
       "      <td>50.4</td>\n",
       "      <td>3.0</td>\n",
       "    </tr>\n",
       "    <tr>\n",
       "      <th>11742</th>\n",
       "      <td>E Class</td>\n",
       "      <td>2016</td>\n",
       "      <td>17990</td>\n",
       "      <td>Automatic</td>\n",
       "      <td>39000</td>\n",
       "      <td>Diesel</td>\n",
       "      <td>30</td>\n",
       "      <td>65.7</td>\n",
       "      <td>2.0</td>\n",
       "    </tr>\n",
       "    <tr>\n",
       "      <th>12800</th>\n",
       "      <td>B Class</td>\n",
       "      <td>2020</td>\n",
       "      <td>27490</td>\n",
       "      <td>Automatic</td>\n",
       "      <td>2563</td>\n",
       "      <td>Diesel</td>\n",
       "      <td>145</td>\n",
       "      <td>55.4</td>\n",
       "      <td>2.0</td>\n",
       "    </tr>\n",
       "    <tr>\n",
       "      <th>12801</th>\n",
       "      <td>A Class</td>\n",
       "      <td>2020</td>\n",
       "      <td>26590</td>\n",
       "      <td>Automatic</td>\n",
       "      <td>2563</td>\n",
       "      <td>Petrol</td>\n",
       "      <td>145</td>\n",
       "      <td>53.3</td>\n",
       "      <td>1.3</td>\n",
       "    </tr>\n",
       "  </tbody>\n",
       "</table>\n",
       "<p>259 rows × 9 columns</p>\n",
       "</div>"
      ],
      "text/plain": [
       "            model  year  price transmission  mileage fuelType  tax   mpg  \\\n",
       "493       V Class  2018  19998       Manual    27222   Diesel  145  46.3   \n",
       "494       V Class  2016  17998       Manual    21981   Diesel  200  46.3   \n",
       "1328    GLB Class  2020  35400    Semi-Auto     2000   Diesel  145  46.3   \n",
       "1505      E Class  2016  15995    Semi-Auto    60931   Diesel  125  58.9   \n",
       "1506      C Class  2018  19950    Semi-Auto    33082   Diesel  145  64.2   \n",
       "...           ...   ...    ...          ...      ...      ...  ...   ...   \n",
       "10517     E Class  2015  18995    Automatic     7315   Diesel  160  50.4   \n",
       "10518     E Class  2015  18995    Automatic     7315   Diesel  160  50.4   \n",
       "11742     E Class  2016  17990    Automatic    39000   Diesel   30  65.7   \n",
       "12800     B Class  2020  27490    Automatic     2563   Diesel  145  55.4   \n",
       "12801     A Class  2020  26590    Automatic     2563   Petrol  145  53.3   \n",
       "\n",
       "       engineSize  \n",
       "493           2.1  \n",
       "494           2.1  \n",
       "1328          2.0  \n",
       "1505          2.1  \n",
       "1506          2.1  \n",
       "...           ...  \n",
       "10517         3.0  \n",
       "10518         3.0  \n",
       "11742         2.0  \n",
       "12800         2.0  \n",
       "12801         1.3  \n",
       "\n",
       "[259 rows x 9 columns]"
      ]
     },
     "execution_count": 374,
     "metadata": {},
     "output_type": "execute_result"
    }
   ],
   "source": [
    "uk_merc[uk_merc.duplicated() == True]"
   ]
  },
  {
   "cell_type": "code",
   "execution_count": 375,
   "id": "b27e4d89",
   "metadata": {},
   "outputs": [],
   "source": [
    "uk_merc.drop_duplicates(inplace=True)"
   ]
  },
  {
   "cell_type": "code",
   "execution_count": 376,
   "id": "4e7c8323",
   "metadata": {},
   "outputs": [
    {
     "data": {
      "text/plain": [
       "<AxesSubplot:>"
      ]
     },
     "execution_count": 376,
     "metadata": {},
     "output_type": "execute_result"
    },
    {
     "data": {
      "image/png": "[encoded data removed]",
      "text/plain": [
       "<Figure size 1080x432 with 1 Axes>"
      ]
     },
     "metadata": {
      "needs_background": "light"
     },
     "output_type": "display_data"
    }
   ],
   "source": [
    "plt.figure(figsize=(15,6))\n",
    "uk_merc['year'].hist(bins=100)"
   ]
  },
  {
   "cell_type": "markdown",
   "id": "2618ee25",
   "metadata": {},
   "source": [
    "histogram is heavily biased on the right, so i guess what we have extremes and outliers, take a look at the boxplot:"
   ]
  },
  {
   "cell_type": "code",
   "execution_count": 377,
   "id": "69268fb2",
   "metadata": {},
   "outputs": [
    {
     "data": {
      "image/png": "[encoded data removed]",
      "text/plain": [
       "<Figure size 1152x864 with 1 Axes>"
      ]
     },
     "metadata": {
      "needs_background": "light"
     },
     "output_type": "display_data"
    }
   ],
   "source": [
    "BP = uk_merc.boxplot(column='year', figsize=(16,12))"
   ]
  },
  {
   "cell_type": "code",
   "execution_count": 378,
   "id": "c1714444",
   "metadata": {},
   "outputs": [
    {
     "data": {
      "text/plain": [
       "2019    4456\n",
       "2017    2367\n",
       "2016    1947\n",
       "2018    1458\n",
       "2015     981\n",
       "2020     618\n",
       "2014     485\n",
       "2013     291\n",
       "2012      57\n",
       "2011      38\n",
       "2010      38\n",
       "2007      21\n",
       "2009      17\n",
       "2008      16\n",
       "2004      13\n",
       "2001      10\n",
       "2002       9\n",
       "2005       9\n",
       "2006       8\n",
       "2003       7\n",
       "1998       4\n",
       "2000       3\n",
       "1997       1\n",
       "1999       1\n",
       "1970       1\n",
       "Name: year, dtype: int64"
      ]
     },
     "execution_count": 378,
     "metadata": {},
     "output_type": "execute_result"
    }
   ],
   "source": [
    "uk_merc['year'].value_counts()"
   ]
  },
  {
   "cell_type": "code",
   "execution_count": 379,
   "id": "295c3ba2",
   "metadata": {},
   "outputs": [
    {
     "data": {
      "text/plain": [
       "<AxesSubplot:>"
      ]
     },
     "execution_count": 379,
     "metadata": {},
     "output_type": "execute_result"
    },
    {
     "data": {
      "image/png": "[encoded data removed]",
      "text/plain": [
       "<Figure size 1152x864 with 1 Axes>"
      ]
     },
     "metadata": {
      "needs_background": "light"
     },
     "output_type": "display_data"
    }
   ],
   "source": [
    "uk_merc[uk_merc.year > 2012].boxplot(column='year', figsize=(16,12))"
   ]
  },
  {
   "cell_type": "markdown",
   "id": "733efd4b",
   "metadata": {},
   "source": [
    "As we can see, bias due to a small numbers of cars older 2012, so we can drop them and analyze apart later if needed "
   ]
  },
  {
   "cell_type": "code",
   "execution_count": 380,
   "id": "7efb76ce",
   "metadata": {},
   "outputs": [],
   "source": [
    "uk_merc = uk_merc[uk_merc['year'] > 2012]"
   ]
  },
  {
   "cell_type": "code",
   "execution_count": 381,
   "id": "9aea7451",
   "metadata": {},
   "outputs": [
    {
     "data": {
      "text/plain": [
       "<AxesSubplot:xlabel='year', ylabel='Count'>"
      ]
     },
     "execution_count": 381,
     "metadata": {},
     "output_type": "execute_result"
    },
    {
     "data": {
      "image/png": "[encoded data removed]",
      "text/plain": [
       "<Figure size 432x288 with 1 Axes>"
      ]
     },
     "metadata": {
      "needs_background": "light"
     },
     "output_type": "display_data"
    }
   ],
   "source": [
    "sns.histplot(data=uk_merc['year'])"
   ]
  },
  {
   "cell_type": "code",
   "execution_count": 382,
   "id": "6c5f28fe",
   "metadata": {},
   "outputs": [
    {
     "data": {
      "text/plain": [
       "2019    4456\n",
       "2017    2367\n",
       "2016    1947\n",
       "2018    1458\n",
       "2015     981\n",
       "2020     618\n",
       "2014     485\n",
       "2013     291\n",
       "Name: year, dtype: int64"
      ]
     },
     "execution_count": 382,
     "metadata": {},
     "output_type": "execute_result"
    }
   ],
   "source": [
    "uk_merc['year'].value_counts()"
   ]
  },
  {
   "cell_type": "code",
   "execution_count": 383,
   "id": "da58dae6",
   "metadata": {},
   "outputs": [
    {
     "data": {
      "text/html": [
       "<div>\n",
       "<style scoped>\n",
       "    .dataframe tbody tr th:only-of-type {\n",
       "        vertical-align: middle;\n",
       "    }\n",
       "\n",
       "    .dataframe tbody tr th {\n",
       "        vertical-align: top;\n",
       "    }\n",
       "\n",
       "    .dataframe thead th {\n",
       "        text-align: right;\n",
       "    }\n",
       "</style>\n",
       "<table border=\"1\" class=\"dataframe\">\n",
       "  <thead>\n",
       "    <tr style=\"text-align: right;\">\n",
       "      <th></th>\n",
       "      <th>model</th>\n",
       "      <th>year</th>\n",
       "      <th>price</th>\n",
       "      <th>transmission</th>\n",
       "      <th>mileage</th>\n",
       "      <th>fuelType</th>\n",
       "      <th>tax</th>\n",
       "      <th>mpg</th>\n",
       "      <th>engineSize</th>\n",
       "    </tr>\n",
       "  </thead>\n",
       "  <tbody>\n",
       "  </tbody>\n",
       "</table>\n",
       "</div>"
      ],
      "text/plain": [
       "Empty DataFrame\n",
       "Columns: [model, year, price, transmission, mileage, fuelType, tax, mpg, engineSize]\n",
       "Index: []"
      ]
     },
     "execution_count": 383,
     "metadata": {},
     "output_type": "execute_result"
    }
   ],
   "source": [
    "uk_merc[uk_merc['year'].isna() == True]"
   ]
  },
  {
   "cell_type": "code",
   "execution_count": 384,
   "id": "6300c68c",
   "metadata": {},
   "outputs": [
    {
     "data": {
      "text/plain": [
       "<AxesSubplot:>"
      ]
     },
     "execution_count": 384,
     "metadata": {},
     "output_type": "execute_result"
    },
    {
     "data": {
      "image/png": "[encoded data removed]",
      "text/plain": [
       "<Figure size 432x288 with 1 Axes>"
      ]
     },
     "metadata": {
      "needs_background": "light"
     },
     "output_type": "display_data"
    }
   ],
   "source": [
    "uk_merc['price'].hist(bins=50)"
   ]
  },
  {
   "cell_type": "code",
   "execution_count": 385,
   "id": "a308cd39",
   "metadata": {},
   "outputs": [
    {
     "data": {
      "text/html": [
       "<div>\n",
       "<style scoped>\n",
       "    .dataframe tbody tr th:only-of-type {\n",
       "        vertical-align: middle;\n",
       "    }\n",
       "\n",
       "    .dataframe tbody tr th {\n",
       "        vertical-align: top;\n",
       "    }\n",
       "\n",
       "    .dataframe thead th {\n",
       "        text-align: right;\n",
       "    }\n",
       "</style>\n",
       "<table border=\"1\" class=\"dataframe\">\n",
       "  <thead>\n",
       "    <tr style=\"text-align: right;\">\n",
       "      <th></th>\n",
       "      <th>price</th>\n",
       "    </tr>\n",
       "  </thead>\n",
       "  <tbody>\n",
       "    <tr>\n",
       "      <th>11103</th>\n",
       "      <td>5950</td>\n",
       "    </tr>\n",
       "    <tr>\n",
       "      <th>11404</th>\n",
       "      <td>5995</td>\n",
       "    </tr>\n",
       "    <tr>\n",
       "      <th>11928</th>\n",
       "      <td>6775</td>\n",
       "    </tr>\n",
       "    <tr>\n",
       "      <th>11822</th>\n",
       "      <td>7000</td>\n",
       "    </tr>\n",
       "    <tr>\n",
       "      <th>11523</th>\n",
       "      <td>7199</td>\n",
       "    </tr>\n",
       "    <tr>\n",
       "      <th>...</th>\n",
       "      <td>...</td>\n",
       "    </tr>\n",
       "    <tr>\n",
       "      <th>8</th>\n",
       "      <td>139948</td>\n",
       "    </tr>\n",
       "    <tr>\n",
       "      <th>6386</th>\n",
       "      <td>139995</td>\n",
       "    </tr>\n",
       "    <tr>\n",
       "      <th>8737</th>\n",
       "      <td>140319</td>\n",
       "    </tr>\n",
       "    <tr>\n",
       "      <th>10044</th>\n",
       "      <td>154998</td>\n",
       "    </tr>\n",
       "    <tr>\n",
       "      <th>6199</th>\n",
       "      <td>159999</td>\n",
       "    </tr>\n",
       "  </tbody>\n",
       "</table>\n",
       "<p>12603 rows × 1 columns</p>\n",
       "</div>"
      ],
      "text/plain": [
       "        price\n",
       "11103    5950\n",
       "11404    5995\n",
       "11928    6775\n",
       "11822    7000\n",
       "11523    7199\n",
       "...       ...\n",
       "8      139948\n",
       "6386   139995\n",
       "8737   140319\n",
       "10044  154998\n",
       "6199   159999\n",
       "\n",
       "[12603 rows x 1 columns]"
      ]
     },
     "execution_count": 385,
     "metadata": {},
     "output_type": "execute_result"
    }
   ],
   "source": [
    "uk_merc[['price']].sort_values(by='price')"
   ]
  },
  {
   "cell_type": "code",
   "execution_count": 386,
   "id": "c85c7635",
   "metadata": {},
   "outputs": [
    {
     "data": {
      "text/plain": [
       "<AxesSubplot:>"
      ]
     },
     "execution_count": 386,
     "metadata": {},
     "output_type": "execute_result"
    },
    {
     "data": {
      "image/png": "[encoded data removed]",
      "text/plain": [
       "<Figure size 864x576 with 1 Axes>"
      ]
     },
     "metadata": {
      "needs_background": "light"
     },
     "output_type": "display_data"
    }
   ],
   "source": [
    "uk_merc.boxplot(column='price', figsize=(12,8))"
   ]
  },
  {
   "cell_type": "code",
   "execution_count": 387,
   "id": "f95a650a",
   "metadata": {},
   "outputs": [
    {
     "data": {
      "text/plain": [
       "count     12603.000000\n",
       "mean      24967.775054\n",
       "std       11674.770573\n",
       "min        5950.000000\n",
       "25%       17599.000000\n",
       "50%       22499.000000\n",
       "75%       28995.000000\n",
       "max      159999.000000\n",
       "Name: price, dtype: float64"
      ]
     },
     "execution_count": 387,
     "metadata": {},
     "output_type": "execute_result"
    }
   ],
   "source": [
    "uk_merc['price'].describe()"
   ]
  },
  {
   "cell_type": "code",
   "execution_count": 388,
   "id": "88565df9",
   "metadata": {},
   "outputs": [
    {
     "data": {
      "text/plain": [
       "<AxesSubplot:>"
      ]
     },
     "execution_count": 388,
     "metadata": {},
     "output_type": "execute_result"
    },
    {
     "data": {
      "image/png": "[encoded data removed]",
      "text/plain": [
       "<Figure size 864x576 with 1 Axes>"
      ]
     },
     "metadata": {
      "needs_background": "light"
     },
     "output_type": "display_data"
    }
   ],
   "source": [
    "uk_merc[uk_merc['price'] < 41600].boxplot(column='price', figsize=(12,8))"
   ]
  },
  {
   "cell_type": "markdown",
   "id": "a49cbeb2",
   "metadata": {},
   "source": [
    "We have some extra expensive cars, drop them for now"
   ]
  },
  {
   "cell_type": "code",
   "execution_count": 389,
   "id": "2b8cadac",
   "metadata": {},
   "outputs": [],
   "source": [
    "uk_merc = uk_merc[uk_merc['price'] < 41600]"
   ]
  },
  {
   "cell_type": "code",
   "execution_count": 390,
   "id": "0ad964e3",
   "metadata": {},
   "outputs": [
    {
     "data": {
      "text/plain": [
       "Semi-Auto    6074\n",
       "Automatic    4173\n",
       "Manual       1392\n",
       "Other           2\n",
       "Name: transmission, dtype: int64"
      ]
     },
     "execution_count": 390,
     "metadata": {},
     "output_type": "execute_result"
    }
   ],
   "source": [
    "uk_merc['transmission'].value_counts()"
   ]
  },
  {
   "cell_type": "code",
   "execution_count": 391,
   "id": "860e3dfa",
   "metadata": {},
   "outputs": [
    {
     "data": {
      "text/html": [
       "<div>\n",
       "<style scoped>\n",
       "    .dataframe tbody tr th:only-of-type {\n",
       "        vertical-align: middle;\n",
       "    }\n",
       "\n",
       "    .dataframe tbody tr th {\n",
       "        vertical-align: top;\n",
       "    }\n",
       "\n",
       "    .dataframe thead th {\n",
       "        text-align: right;\n",
       "    }\n",
       "</style>\n",
       "<table border=\"1\" class=\"dataframe\">\n",
       "  <thead>\n",
       "    <tr style=\"text-align: right;\">\n",
       "      <th></th>\n",
       "      <th>model</th>\n",
       "      <th>year</th>\n",
       "      <th>price</th>\n",
       "      <th>transmission</th>\n",
       "      <th>mileage</th>\n",
       "      <th>fuelType</th>\n",
       "      <th>tax</th>\n",
       "      <th>mpg</th>\n",
       "      <th>engineSize</th>\n",
       "    </tr>\n",
       "  </thead>\n",
       "  <tbody>\n",
       "    <tr>\n",
       "      <th>9650</th>\n",
       "      <td>GLA Class</td>\n",
       "      <td>2016</td>\n",
       "      <td>18700</td>\n",
       "      <td>Other</td>\n",
       "      <td>30895</td>\n",
       "      <td>Other</td>\n",
       "      <td>125</td>\n",
       "      <td>56.5</td>\n",
       "      <td>0.0</td>\n",
       "    </tr>\n",
       "    <tr>\n",
       "      <th>12762</th>\n",
       "      <td>SLK</td>\n",
       "      <td>2015</td>\n",
       "      <td>12995</td>\n",
       "      <td>Other</td>\n",
       "      <td>39000</td>\n",
       "      <td>Diesel</td>\n",
       "      <td>150</td>\n",
       "      <td>56.5</td>\n",
       "      <td>2.1</td>\n",
       "    </tr>\n",
       "  </tbody>\n",
       "</table>\n",
       "</div>"
      ],
      "text/plain": [
       "            model  year  price transmission  mileage fuelType  tax   mpg  \\\n",
       "9650    GLA Class  2016  18700        Other    30895    Other  125  56.5   \n",
       "12762         SLK  2015  12995        Other    39000   Diesel  150  56.5   \n",
       "\n",
       "       engineSize  \n",
       "9650          0.0  \n",
       "12762         2.1  "
      ]
     },
     "execution_count": 391,
     "metadata": {},
     "output_type": "execute_result"
    }
   ],
   "source": [
    "uk_merc[uk_merc['transmission'] == 'Other']"
   ]
  },
  {
   "cell_type": "markdown",
   "id": "1df5a63a",
   "metadata": {},
   "source": [
    "Missing values near thansmission, drop that rows"
   ]
  },
  {
   "cell_type": "code",
   "execution_count": 392,
   "id": "21dd9ca8",
   "metadata": {},
   "outputs": [],
   "source": [
    "uk_merc.drop([9650, 12762], inplace=True)"
   ]
  },
  {
   "cell_type": "code",
   "execution_count": 393,
   "id": "9b97c6d4",
   "metadata": {},
   "outputs": [
    {
     "data": {
      "text/plain": [
       "<AxesSubplot:>"
      ]
     },
     "execution_count": 393,
     "metadata": {},
     "output_type": "execute_result"
    },
    {
     "data": {
      "image/png": "[encoded data removed]",
      "text/plain": [
       "<Figure size 432x288 with 1 Axes>"
      ]
     },
     "metadata": {
      "needs_background": "light"
     },
     "output_type": "display_data"
    }
   ],
   "source": [
    "uk_merc['mileage'].hist()"
   ]
  },
  {
   "cell_type": "code",
   "execution_count": 394,
   "id": "4f32c29f",
   "metadata": {},
   "outputs": [
    {
     "data": {
      "text/html": [
       "<div>\n",
       "<style scoped>\n",
       "    .dataframe tbody tr th:only-of-type {\n",
       "        vertical-align: middle;\n",
       "    }\n",
       "\n",
       "    .dataframe tbody tr th {\n",
       "        vertical-align: top;\n",
       "    }\n",
       "\n",
       "    .dataframe thead th {\n",
       "        text-align: right;\n",
       "    }\n",
       "</style>\n",
       "<table border=\"1\" class=\"dataframe\">\n",
       "  <thead>\n",
       "    <tr style=\"text-align: right;\">\n",
       "      <th></th>\n",
       "      <th>model</th>\n",
       "      <th>year</th>\n",
       "      <th>price</th>\n",
       "      <th>transmission</th>\n",
       "      <th>mileage</th>\n",
       "      <th>fuelType</th>\n",
       "      <th>tax</th>\n",
       "      <th>mpg</th>\n",
       "      <th>engineSize</th>\n",
       "    </tr>\n",
       "  </thead>\n",
       "  <tbody>\n",
       "    <tr>\n",
       "      <th>11123</th>\n",
       "      <td>E Class</td>\n",
       "      <td>2014</td>\n",
       "      <td>7295</td>\n",
       "      <td>Automatic</td>\n",
       "      <td>152280</td>\n",
       "      <td>Diesel</td>\n",
       "      <td>30</td>\n",
       "      <td>58.9</td>\n",
       "      <td>2.1</td>\n",
       "    </tr>\n",
       "    <tr>\n",
       "      <th>11928</th>\n",
       "      <td>E Class</td>\n",
       "      <td>2015</td>\n",
       "      <td>6775</td>\n",
       "      <td>Automatic</td>\n",
       "      <td>166086</td>\n",
       "      <td>Diesel</td>\n",
       "      <td>30</td>\n",
       "      <td>64.2</td>\n",
       "      <td>2.1</td>\n",
       "    </tr>\n",
       "    <tr>\n",
       "      <th>12017</th>\n",
       "      <td>E Class</td>\n",
       "      <td>2014</td>\n",
       "      <td>7995</td>\n",
       "      <td>Automatic</td>\n",
       "      <td>154000</td>\n",
       "      <td>Diesel</td>\n",
       "      <td>30</td>\n",
       "      <td>58.9</td>\n",
       "      <td>2.1</td>\n",
       "    </tr>\n",
       "    <tr>\n",
       "      <th>12904</th>\n",
       "      <td>A Class</td>\n",
       "      <td>2016</td>\n",
       "      <td>16249</td>\n",
       "      <td>Automatic</td>\n",
       "      <td>240494</td>\n",
       "      <td>Diesel</td>\n",
       "      <td>20</td>\n",
       "      <td>68.9</td>\n",
       "      <td>2.1</td>\n",
       "    </tr>\n",
       "  </tbody>\n",
       "</table>\n",
       "</div>"
      ],
      "text/plain": [
       "          model  year  price transmission  mileage fuelType  tax   mpg  \\\n",
       "11123   E Class  2014   7295    Automatic   152280   Diesel   30  58.9   \n",
       "11928   E Class  2015   6775    Automatic   166086   Diesel   30  64.2   \n",
       "12017   E Class  2014   7995    Automatic   154000   Diesel   30  58.9   \n",
       "12904   A Class  2016  16249    Automatic   240494   Diesel   20  68.9   \n",
       "\n",
       "       engineSize  \n",
       "11123         2.1  \n",
       "11928         2.1  \n",
       "12017         2.1  \n",
       "12904         2.1  "
      ]
     },
     "execution_count": 394,
     "metadata": {},
     "output_type": "execute_result"
    }
   ],
   "source": [
    "uk_merc[uk_merc['mileage'] > 150000]"
   ]
  },
  {
   "cell_type": "code",
   "execution_count": 395,
   "id": "f93814ad",
   "metadata": {},
   "outputs": [],
   "source": [
    "uk_merc = uk_merc[uk_merc['mileage'] < 150000]"
   ]
  },
  {
   "cell_type": "code",
   "execution_count": 396,
   "id": "5bf0d107",
   "metadata": {},
   "outputs": [
    {
     "data": {
      "text/plain": [
       "Diesel    8408\n",
       "Petrol    3059\n",
       "Hybrid     161\n",
       "Other        6\n",
       "Name: fuelType, dtype: int64"
      ]
     },
     "execution_count": 396,
     "metadata": {},
     "output_type": "execute_result"
    }
   ],
   "source": [
    "uk_merc['fuelType'].value_counts()"
   ]
  },
  {
   "cell_type": "code",
   "execution_count": 397,
   "id": "acc951f4",
   "metadata": {},
   "outputs": [
    {
     "data": {
      "text/html": [
       "<div>\n",
       "<style scoped>\n",
       "    .dataframe tbody tr th:only-of-type {\n",
       "        vertical-align: middle;\n",
       "    }\n",
       "\n",
       "    .dataframe tbody tr th {\n",
       "        vertical-align: top;\n",
       "    }\n",
       "\n",
       "    .dataframe thead th {\n",
       "        text-align: right;\n",
       "    }\n",
       "</style>\n",
       "<table border=\"1\" class=\"dataframe\">\n",
       "  <thead>\n",
       "    <tr style=\"text-align: right;\">\n",
       "      <th></th>\n",
       "      <th>model</th>\n",
       "      <th>year</th>\n",
       "      <th>price</th>\n",
       "      <th>transmission</th>\n",
       "      <th>mileage</th>\n",
       "      <th>fuelType</th>\n",
       "      <th>tax</th>\n",
       "      <th>mpg</th>\n",
       "      <th>engineSize</th>\n",
       "    </tr>\n",
       "  </thead>\n",
       "  <tbody>\n",
       "    <tr>\n",
       "      <th>11740</th>\n",
       "      <td>GLE Class</td>\n",
       "      <td>2016</td>\n",
       "      <td>31990</td>\n",
       "      <td>Automatic</td>\n",
       "      <td>46000</td>\n",
       "      <td>Other</td>\n",
       "      <td>0</td>\n",
       "      <td>76.4</td>\n",
       "      <td>3.0</td>\n",
       "    </tr>\n",
       "    <tr>\n",
       "      <th>12095</th>\n",
       "      <td>C Class</td>\n",
       "      <td>2016</td>\n",
       "      <td>13850</td>\n",
       "      <td>Automatic</td>\n",
       "      <td>77814</td>\n",
       "      <td>Other</td>\n",
       "      <td>0</td>\n",
       "      <td>134.5</td>\n",
       "      <td>2.0</td>\n",
       "    </tr>\n",
       "    <tr>\n",
       "      <th>12184</th>\n",
       "      <td>C Class</td>\n",
       "      <td>2017</td>\n",
       "      <td>17400</td>\n",
       "      <td>Automatic</td>\n",
       "      <td>52897</td>\n",
       "      <td>Other</td>\n",
       "      <td>0</td>\n",
       "      <td>134.5</td>\n",
       "      <td>2.0</td>\n",
       "    </tr>\n",
       "    <tr>\n",
       "      <th>12270</th>\n",
       "      <td>C Class</td>\n",
       "      <td>2017</td>\n",
       "      <td>16000</td>\n",
       "      <td>Automatic</td>\n",
       "      <td>54011</td>\n",
       "      <td>Other</td>\n",
       "      <td>0</td>\n",
       "      <td>134.5</td>\n",
       "      <td>2.0</td>\n",
       "    </tr>\n",
       "    <tr>\n",
       "      <th>12389</th>\n",
       "      <td>C Class</td>\n",
       "      <td>2015</td>\n",
       "      <td>15000</td>\n",
       "      <td>Automatic</td>\n",
       "      <td>53400</td>\n",
       "      <td>Other</td>\n",
       "      <td>0</td>\n",
       "      <td>134.5</td>\n",
       "      <td>2.0</td>\n",
       "    </tr>\n",
       "    <tr>\n",
       "      <th>12894</th>\n",
       "      <td>C Class</td>\n",
       "      <td>2020</td>\n",
       "      <td>40999</td>\n",
       "      <td>Automatic</td>\n",
       "      <td>400</td>\n",
       "      <td>Other</td>\n",
       "      <td>135</td>\n",
       "      <td>217.3</td>\n",
       "      <td>2.0</td>\n",
       "    </tr>\n",
       "  </tbody>\n",
       "</table>\n",
       "</div>"
      ],
      "text/plain": [
       "            model  year  price transmission  mileage fuelType  tax    mpg  \\\n",
       "11740   GLE Class  2016  31990    Automatic    46000    Other    0   76.4   \n",
       "12095     C Class  2016  13850    Automatic    77814    Other    0  134.5   \n",
       "12184     C Class  2017  17400    Automatic    52897    Other    0  134.5   \n",
       "12270     C Class  2017  16000    Automatic    54011    Other    0  134.5   \n",
       "12389     C Class  2015  15000    Automatic    53400    Other    0  134.5   \n",
       "12894     C Class  2020  40999    Automatic      400    Other  135  217.3   \n",
       "\n",
       "       engineSize  \n",
       "11740         3.0  \n",
       "12095         2.0  \n",
       "12184         2.0  \n",
       "12270         2.0  \n",
       "12389         2.0  \n",
       "12894         2.0  "
      ]
     },
     "execution_count": 397,
     "metadata": {},
     "output_type": "execute_result"
    }
   ],
   "source": [
    "uk_merc[uk_merc['fuelType'] == 'Other']"
   ]
  },
  {
   "cell_type": "markdown",
   "id": "d962f302",
   "metadata": {},
   "source": [
    "I can't define the fuelType of these cars... drop..."
   ]
  },
  {
   "cell_type": "code",
   "execution_count": 398,
   "id": "07d404cc",
   "metadata": {},
   "outputs": [],
   "source": [
    "uk_merc.drop([11740, 12095, 12184, 12270, 12389, 12894], inplace=True)"
   ]
  },
  {
   "cell_type": "code",
   "execution_count": 399,
   "id": "31d17d92",
   "metadata": {},
   "outputs": [
    {
     "data": {
      "text/plain": [
       "model     year  price  transmission  mileage  fuelType  tax  mpg    engineSize\n",
       " A Class  2020  30231  Semi-Auto     4000     Hybrid    140  1.1    1.3           1\n",
       " C Class  2016  19599  Semi-Auto     68770    Hybrid    0    74.3   2.1           1\n",
       "          2017  18399  Automatic     22167    Hybrid    135  134.5  2.0           1\n",
       "                18498  Semi-Auto     42100    Hybrid    0    134.5  2.0           1\n",
       "                                     48404    Hybrid    0    134.5  2.0           1\n",
       "                                                                                 ..\n",
       "          2016  17498  Semi-Auto     63507    Hybrid    0    76.4   2.1           1\n",
       "                17500  Automatic     52749    Hybrid    0    76.4   2.1           1\n",
       "                       Semi-Auto     41758    Hybrid    0    134.5  2.0           1\n",
       "                17979  Automatic     47448    Hybrid    0    134.5  2.0           1\n",
       " S Class  2017  36890  Automatic     22657    Hybrid    20   61.4   2.1           1\n",
       "Length: 161, dtype: int64"
      ]
     },
     "execution_count": 399,
     "metadata": {},
     "output_type": "execute_result"
    }
   ],
   "source": [
    "uk_merc[uk_merc['fuelType'] == 'Hybrid'].value_counts()"
   ]
  },
  {
   "cell_type": "markdown",
   "id": "5c616bad",
   "metadata": {},
   "source": [
    "Few hybrid cars are add a lot of noise in MPG ratio and not common, so we can drop them"
   ]
  },
  {
   "cell_type": "code",
   "execution_count": 400,
   "id": "d177cbcf",
   "metadata": {},
   "outputs": [],
   "source": [
    "uk_merc = uk_merc[uk_merc['fuelType'] != 'Hybrid']"
   ]
  },
  {
   "cell_type": "code",
   "execution_count": 401,
   "id": "e378d330",
   "metadata": {},
   "outputs": [
    {
     "data": {
      "text/plain": [
       "<AxesSubplot:>"
      ]
     },
     "execution_count": 401,
     "metadata": {},
     "output_type": "execute_result"
    },
    {
     "data": {
      "image/png": "[encoded data removed]",
      "text/plain": [
       "<Figure size 432x288 with 1 Axes>"
      ]
     },
     "metadata": {
      "needs_background": "light"
     },
     "output_type": "display_data"
    }
   ],
   "source": [
    "uk_merc['tax'].hist()"
   ]
  },
  {
   "cell_type": "code",
   "execution_count": 402,
   "id": "586a79d1",
   "metadata": {},
   "outputs": [
    {
     "data": {
      "text/plain": [
       "<AxesSubplot:>"
      ]
     },
     "execution_count": 402,
     "metadata": {},
     "output_type": "execute_result"
    },
    {
     "data": {
      "image/png": "[encoded data removed]",
      "text/plain": [
       "<Figure size 864x576 with 1 Axes>"
      ]
     },
     "metadata": {
      "needs_background": "light"
     },
     "output_type": "display_data"
    }
   ],
   "source": [
    "uk_merc.boxplot('tax', figsize=(12,8))"
   ]
  },
  {
   "cell_type": "code",
   "execution_count": 403,
   "id": "bb4cbefc",
   "metadata": {},
   "outputs": [
    {
     "data": {
      "text/html": [
       "<div>\n",
       "<style scoped>\n",
       "    .dataframe tbody tr th:only-of-type {\n",
       "        vertical-align: middle;\n",
       "    }\n",
       "\n",
       "    .dataframe tbody tr th {\n",
       "        vertical-align: top;\n",
       "    }\n",
       "\n",
       "    .dataframe thead th {\n",
       "        text-align: right;\n",
       "    }\n",
       "</style>\n",
       "<table border=\"1\" class=\"dataframe\">\n",
       "  <thead>\n",
       "    <tr style=\"text-align: right;\">\n",
       "      <th></th>\n",
       "      <th>model</th>\n",
       "      <th>year</th>\n",
       "      <th>price</th>\n",
       "      <th>transmission</th>\n",
       "      <th>mileage</th>\n",
       "      <th>fuelType</th>\n",
       "      <th>tax</th>\n",
       "      <th>mpg</th>\n",
       "      <th>engineSize</th>\n",
       "    </tr>\n",
       "  </thead>\n",
       "  <tbody>\n",
       "    <tr>\n",
       "      <th>512</th>\n",
       "      <td>A Class</td>\n",
       "      <td>2015</td>\n",
       "      <td>11498</td>\n",
       "      <td>Manual</td>\n",
       "      <td>32648</td>\n",
       "      <td>Diesel</td>\n",
       "      <td>0</td>\n",
       "      <td>74.3</td>\n",
       "      <td>1.5</td>\n",
       "    </tr>\n",
       "    <tr>\n",
       "      <th>917</th>\n",
       "      <td>A Class</td>\n",
       "      <td>2016</td>\n",
       "      <td>13695</td>\n",
       "      <td>Manual</td>\n",
       "      <td>41600</td>\n",
       "      <td>Diesel</td>\n",
       "      <td>0</td>\n",
       "      <td>80.7</td>\n",
       "      <td>1.5</td>\n",
       "    </tr>\n",
       "    <tr>\n",
       "      <th>1131</th>\n",
       "      <td>B Class</td>\n",
       "      <td>2014</td>\n",
       "      <td>8200</td>\n",
       "      <td>Manual</td>\n",
       "      <td>39331</td>\n",
       "      <td>Diesel</td>\n",
       "      <td>0</td>\n",
       "      <td>74.3</td>\n",
       "      <td>1.5</td>\n",
       "    </tr>\n",
       "    <tr>\n",
       "      <th>1544</th>\n",
       "      <td>A Class</td>\n",
       "      <td>2014</td>\n",
       "      <td>10490</td>\n",
       "      <td>Manual</td>\n",
       "      <td>37642</td>\n",
       "      <td>Diesel</td>\n",
       "      <td>0</td>\n",
       "      <td>78.5</td>\n",
       "      <td>1.5</td>\n",
       "    </tr>\n",
       "    <tr>\n",
       "      <th>1577</th>\n",
       "      <td>A Class</td>\n",
       "      <td>2015</td>\n",
       "      <td>10490</td>\n",
       "      <td>Semi-Auto</td>\n",
       "      <td>49816</td>\n",
       "      <td>Diesel</td>\n",
       "      <td>0</td>\n",
       "      <td>70.6</td>\n",
       "      <td>1.5</td>\n",
       "    </tr>\n",
       "    <tr>\n",
       "      <th>1666</th>\n",
       "      <td>A Class</td>\n",
       "      <td>2014</td>\n",
       "      <td>9761</td>\n",
       "      <td>Manual</td>\n",
       "      <td>50116</td>\n",
       "      <td>Diesel</td>\n",
       "      <td>0</td>\n",
       "      <td>78.5</td>\n",
       "      <td>1.5</td>\n",
       "    </tr>\n",
       "    <tr>\n",
       "      <th>2369</th>\n",
       "      <td>A Class</td>\n",
       "      <td>2014</td>\n",
       "      <td>11915</td>\n",
       "      <td>Manual</td>\n",
       "      <td>12522</td>\n",
       "      <td>Diesel</td>\n",
       "      <td>0</td>\n",
       "      <td>78.5</td>\n",
       "      <td>1.5</td>\n",
       "    </tr>\n",
       "    <tr>\n",
       "      <th>3981</th>\n",
       "      <td>A Class</td>\n",
       "      <td>2015</td>\n",
       "      <td>11444</td>\n",
       "      <td>Manual</td>\n",
       "      <td>27000</td>\n",
       "      <td>Diesel</td>\n",
       "      <td>0</td>\n",
       "      <td>74.3</td>\n",
       "      <td>1.5</td>\n",
       "    </tr>\n",
       "    <tr>\n",
       "      <th>3994</th>\n",
       "      <td>A Class</td>\n",
       "      <td>2016</td>\n",
       "      <td>13823</td>\n",
       "      <td>Automatic</td>\n",
       "      <td>25151</td>\n",
       "      <td>Diesel</td>\n",
       "      <td>0</td>\n",
       "      <td>76.4</td>\n",
       "      <td>1.5</td>\n",
       "    </tr>\n",
       "    <tr>\n",
       "      <th>5134</th>\n",
       "      <td>A Class</td>\n",
       "      <td>2016</td>\n",
       "      <td>14552</td>\n",
       "      <td>Semi-Auto</td>\n",
       "      <td>25653</td>\n",
       "      <td>Diesel</td>\n",
       "      <td>0</td>\n",
       "      <td>76.4</td>\n",
       "      <td>1.5</td>\n",
       "    </tr>\n",
       "    <tr>\n",
       "      <th>5339</th>\n",
       "      <td>A Class</td>\n",
       "      <td>2014</td>\n",
       "      <td>10932</td>\n",
       "      <td>Manual</td>\n",
       "      <td>38510</td>\n",
       "      <td>Diesel</td>\n",
       "      <td>0</td>\n",
       "      <td>78.5</td>\n",
       "      <td>1.5</td>\n",
       "    </tr>\n",
       "    <tr>\n",
       "      <th>5676</th>\n",
       "      <td>B Class</td>\n",
       "      <td>2014</td>\n",
       "      <td>8490</td>\n",
       "      <td>Manual</td>\n",
       "      <td>75894</td>\n",
       "      <td>Diesel</td>\n",
       "      <td>0</td>\n",
       "      <td>74.3</td>\n",
       "      <td>1.5</td>\n",
       "    </tr>\n",
       "    <tr>\n",
       "      <th>5859</th>\n",
       "      <td>A Class</td>\n",
       "      <td>2013</td>\n",
       "      <td>9608</td>\n",
       "      <td>Manual</td>\n",
       "      <td>41966</td>\n",
       "      <td>Diesel</td>\n",
       "      <td>0</td>\n",
       "      <td>74.3</td>\n",
       "      <td>1.5</td>\n",
       "    </tr>\n",
       "    <tr>\n",
       "      <th>5987</th>\n",
       "      <td>A Class</td>\n",
       "      <td>2017</td>\n",
       "      <td>13782</td>\n",
       "      <td>Manual</td>\n",
       "      <td>20218</td>\n",
       "      <td>Diesel</td>\n",
       "      <td>0</td>\n",
       "      <td>80.7</td>\n",
       "      <td>1.5</td>\n",
       "    </tr>\n",
       "    <tr>\n",
       "      <th>6242</th>\n",
       "      <td>A Class</td>\n",
       "      <td>2015</td>\n",
       "      <td>11480</td>\n",
       "      <td>Manual</td>\n",
       "      <td>47552</td>\n",
       "      <td>Diesel</td>\n",
       "      <td>0</td>\n",
       "      <td>80.7</td>\n",
       "      <td>1.5</td>\n",
       "    </tr>\n",
       "    <tr>\n",
       "      <th>6246</th>\n",
       "      <td>A Class</td>\n",
       "      <td>2017</td>\n",
       "      <td>14490</td>\n",
       "      <td>Semi-Auto</td>\n",
       "      <td>42670</td>\n",
       "      <td>Diesel</td>\n",
       "      <td>0</td>\n",
       "      <td>74.3</td>\n",
       "      <td>2.1</td>\n",
       "    </tr>\n",
       "    <tr>\n",
       "      <th>7001</th>\n",
       "      <td>A Class</td>\n",
       "      <td>2016</td>\n",
       "      <td>12149</td>\n",
       "      <td>Manual</td>\n",
       "      <td>36001</td>\n",
       "      <td>Diesel</td>\n",
       "      <td>0</td>\n",
       "      <td>80.7</td>\n",
       "      <td>1.5</td>\n",
       "    </tr>\n",
       "    <tr>\n",
       "      <th>9600</th>\n",
       "      <td>A Class</td>\n",
       "      <td>2014</td>\n",
       "      <td>9977</td>\n",
       "      <td>Manual</td>\n",
       "      <td>55000</td>\n",
       "      <td>Diesel</td>\n",
       "      <td>0</td>\n",
       "      <td>78.5</td>\n",
       "      <td>1.5</td>\n",
       "    </tr>\n",
       "    <tr>\n",
       "      <th>9602</th>\n",
       "      <td>A Class</td>\n",
       "      <td>2017</td>\n",
       "      <td>13477</td>\n",
       "      <td>Manual</td>\n",
       "      <td>40000</td>\n",
       "      <td>Diesel</td>\n",
       "      <td>0</td>\n",
       "      <td>80.7</td>\n",
       "      <td>1.5</td>\n",
       "    </tr>\n",
       "    <tr>\n",
       "      <th>9603</th>\n",
       "      <td>A Class</td>\n",
       "      <td>2017</td>\n",
       "      <td>13477</td>\n",
       "      <td>Manual</td>\n",
       "      <td>43000</td>\n",
       "      <td>Diesel</td>\n",
       "      <td>0</td>\n",
       "      <td>80.7</td>\n",
       "      <td>1.5</td>\n",
       "    </tr>\n",
       "    <tr>\n",
       "      <th>9608</th>\n",
       "      <td>A Class</td>\n",
       "      <td>2016</td>\n",
       "      <td>13150</td>\n",
       "      <td>Automatic</td>\n",
       "      <td>39000</td>\n",
       "      <td>Diesel</td>\n",
       "      <td>0</td>\n",
       "      <td>76.4</td>\n",
       "      <td>1.5</td>\n",
       "    </tr>\n",
       "    <tr>\n",
       "      <th>9676</th>\n",
       "      <td>A Class</td>\n",
       "      <td>2016</td>\n",
       "      <td>12400</td>\n",
       "      <td>Semi-Auto</td>\n",
       "      <td>72000</td>\n",
       "      <td>Diesel</td>\n",
       "      <td>0</td>\n",
       "      <td>76.4</td>\n",
       "      <td>1.5</td>\n",
       "    </tr>\n",
       "    <tr>\n",
       "      <th>9712</th>\n",
       "      <td>A Class</td>\n",
       "      <td>2016</td>\n",
       "      <td>12990</td>\n",
       "      <td>Automatic</td>\n",
       "      <td>34000</td>\n",
       "      <td>Diesel</td>\n",
       "      <td>0</td>\n",
       "      <td>74.3</td>\n",
       "      <td>2.1</td>\n",
       "    </tr>\n",
       "    <tr>\n",
       "      <th>9721</th>\n",
       "      <td>A Class</td>\n",
       "      <td>2016</td>\n",
       "      <td>10490</td>\n",
       "      <td>Manual</td>\n",
       "      <td>63000</td>\n",
       "      <td>Diesel</td>\n",
       "      <td>0</td>\n",
       "      <td>80.7</td>\n",
       "      <td>1.5</td>\n",
       "    </tr>\n",
       "    <tr>\n",
       "      <th>9731</th>\n",
       "      <td>A Class</td>\n",
       "      <td>2016</td>\n",
       "      <td>12490</td>\n",
       "      <td>Manual</td>\n",
       "      <td>18000</td>\n",
       "      <td>Diesel</td>\n",
       "      <td>0</td>\n",
       "      <td>80.7</td>\n",
       "      <td>1.5</td>\n",
       "    </tr>\n",
       "    <tr>\n",
       "      <th>9751</th>\n",
       "      <td>A Class</td>\n",
       "      <td>2016</td>\n",
       "      <td>9990</td>\n",
       "      <td>Manual</td>\n",
       "      <td>82000</td>\n",
       "      <td>Diesel</td>\n",
       "      <td>0</td>\n",
       "      <td>80.7</td>\n",
       "      <td>1.5</td>\n",
       "    </tr>\n",
       "    <tr>\n",
       "      <th>9914</th>\n",
       "      <td>A Class</td>\n",
       "      <td>2016</td>\n",
       "      <td>11849</td>\n",
       "      <td>Manual</td>\n",
       "      <td>27958</td>\n",
       "      <td>Diesel</td>\n",
       "      <td>0</td>\n",
       "      <td>80.7</td>\n",
       "      <td>1.5</td>\n",
       "    </tr>\n",
       "    <tr>\n",
       "      <th>10049</th>\n",
       "      <td>A Class</td>\n",
       "      <td>2014</td>\n",
       "      <td>10498</td>\n",
       "      <td>Manual</td>\n",
       "      <td>73000</td>\n",
       "      <td>Diesel</td>\n",
       "      <td>0</td>\n",
       "      <td>78.5</td>\n",
       "      <td>1.5</td>\n",
       "    </tr>\n",
       "    <tr>\n",
       "      <th>10109</th>\n",
       "      <td>A Class</td>\n",
       "      <td>2016</td>\n",
       "      <td>12999</td>\n",
       "      <td>Manual</td>\n",
       "      <td>22786</td>\n",
       "      <td>Diesel</td>\n",
       "      <td>0</td>\n",
       "      <td>80.7</td>\n",
       "      <td>1.5</td>\n",
       "    </tr>\n",
       "    <tr>\n",
       "      <th>10213</th>\n",
       "      <td>A Class</td>\n",
       "      <td>2014</td>\n",
       "      <td>10649</td>\n",
       "      <td>Manual</td>\n",
       "      <td>44140</td>\n",
       "      <td>Diesel</td>\n",
       "      <td>0</td>\n",
       "      <td>78.5</td>\n",
       "      <td>1.5</td>\n",
       "    </tr>\n",
       "    <tr>\n",
       "      <th>10232</th>\n",
       "      <td>A Class</td>\n",
       "      <td>2015</td>\n",
       "      <td>11499</td>\n",
       "      <td>Automatic</td>\n",
       "      <td>40373</td>\n",
       "      <td>Diesel</td>\n",
       "      <td>0</td>\n",
       "      <td>70.6</td>\n",
       "      <td>1.5</td>\n",
       "    </tr>\n",
       "    <tr>\n",
       "      <th>10245</th>\n",
       "      <td>A Class</td>\n",
       "      <td>2017</td>\n",
       "      <td>13499</td>\n",
       "      <td>Automatic</td>\n",
       "      <td>48866</td>\n",
       "      <td>Diesel</td>\n",
       "      <td>0</td>\n",
       "      <td>76.4</td>\n",
       "      <td>1.5</td>\n",
       "    </tr>\n",
       "    <tr>\n",
       "      <th>10307</th>\n",
       "      <td>A Class</td>\n",
       "      <td>2016</td>\n",
       "      <td>11999</td>\n",
       "      <td>Manual</td>\n",
       "      <td>40276</td>\n",
       "      <td>Diesel</td>\n",
       "      <td>0</td>\n",
       "      <td>80.7</td>\n",
       "      <td>1.5</td>\n",
       "    </tr>\n",
       "    <tr>\n",
       "      <th>10473</th>\n",
       "      <td>A Class</td>\n",
       "      <td>2016</td>\n",
       "      <td>10699</td>\n",
       "      <td>Manual</td>\n",
       "      <td>57924</td>\n",
       "      <td>Diesel</td>\n",
       "      <td>0</td>\n",
       "      <td>80.7</td>\n",
       "      <td>1.5</td>\n",
       "    </tr>\n",
       "    <tr>\n",
       "      <th>10744</th>\n",
       "      <td>B Class</td>\n",
       "      <td>2015</td>\n",
       "      <td>8800</td>\n",
       "      <td>Manual</td>\n",
       "      <td>43543</td>\n",
       "      <td>Diesel</td>\n",
       "      <td>0</td>\n",
       "      <td>78.5</td>\n",
       "      <td>1.5</td>\n",
       "    </tr>\n",
       "    <tr>\n",
       "      <th>10961</th>\n",
       "      <td>A Class</td>\n",
       "      <td>2016</td>\n",
       "      <td>11724</td>\n",
       "      <td>Manual</td>\n",
       "      <td>54585</td>\n",
       "      <td>Diesel</td>\n",
       "      <td>0</td>\n",
       "      <td>80.7</td>\n",
       "      <td>1.5</td>\n",
       "    </tr>\n",
       "    <tr>\n",
       "      <th>11112</th>\n",
       "      <td>A Class</td>\n",
       "      <td>2016</td>\n",
       "      <td>12500</td>\n",
       "      <td>Manual</td>\n",
       "      <td>24810</td>\n",
       "      <td>Diesel</td>\n",
       "      <td>0</td>\n",
       "      <td>80.7</td>\n",
       "      <td>1.5</td>\n",
       "    </tr>\n",
       "    <tr>\n",
       "      <th>11172</th>\n",
       "      <td>A Class</td>\n",
       "      <td>2013</td>\n",
       "      <td>9990</td>\n",
       "      <td>Manual</td>\n",
       "      <td>32713</td>\n",
       "      <td>Diesel</td>\n",
       "      <td>0</td>\n",
       "      <td>74.3</td>\n",
       "      <td>1.5</td>\n",
       "    </tr>\n",
       "    <tr>\n",
       "      <th>11287</th>\n",
       "      <td>A Class</td>\n",
       "      <td>2016</td>\n",
       "      <td>12999</td>\n",
       "      <td>Manual</td>\n",
       "      <td>18593</td>\n",
       "      <td>Diesel</td>\n",
       "      <td>0</td>\n",
       "      <td>80.7</td>\n",
       "      <td>1.5</td>\n",
       "    </tr>\n",
       "    <tr>\n",
       "      <th>11333</th>\n",
       "      <td>A Class</td>\n",
       "      <td>2016</td>\n",
       "      <td>13699</td>\n",
       "      <td>Automatic</td>\n",
       "      <td>31817</td>\n",
       "      <td>Diesel</td>\n",
       "      <td>0</td>\n",
       "      <td>76.4</td>\n",
       "      <td>1.5</td>\n",
       "    </tr>\n",
       "    <tr>\n",
       "      <th>11387</th>\n",
       "      <td>A Class</td>\n",
       "      <td>2013</td>\n",
       "      <td>8495</td>\n",
       "      <td>Manual</td>\n",
       "      <td>74000</td>\n",
       "      <td>Diesel</td>\n",
       "      <td>0</td>\n",
       "      <td>74.3</td>\n",
       "      <td>1.5</td>\n",
       "    </tr>\n",
       "    <tr>\n",
       "      <th>11415</th>\n",
       "      <td>A Class</td>\n",
       "      <td>2016</td>\n",
       "      <td>13599</td>\n",
       "      <td>Automatic</td>\n",
       "      <td>29917</td>\n",
       "      <td>Diesel</td>\n",
       "      <td>0</td>\n",
       "      <td>74.3</td>\n",
       "      <td>2.1</td>\n",
       "    </tr>\n",
       "    <tr>\n",
       "      <th>11484</th>\n",
       "      <td>A Class</td>\n",
       "      <td>2013</td>\n",
       "      <td>10559</td>\n",
       "      <td>Manual</td>\n",
       "      <td>34408</td>\n",
       "      <td>Diesel</td>\n",
       "      <td>0</td>\n",
       "      <td>74.3</td>\n",
       "      <td>1.5</td>\n",
       "    </tr>\n",
       "    <tr>\n",
       "      <th>11571</th>\n",
       "      <td>A Class</td>\n",
       "      <td>2016</td>\n",
       "      <td>9295</td>\n",
       "      <td>Manual</td>\n",
       "      <td>111410</td>\n",
       "      <td>Diesel</td>\n",
       "      <td>0</td>\n",
       "      <td>80.7</td>\n",
       "      <td>1.5</td>\n",
       "    </tr>\n",
       "    <tr>\n",
       "      <th>11825</th>\n",
       "      <td>A Class</td>\n",
       "      <td>2014</td>\n",
       "      <td>9800</td>\n",
       "      <td>Manual</td>\n",
       "      <td>53553</td>\n",
       "      <td>Diesel</td>\n",
       "      <td>0</td>\n",
       "      <td>78.5</td>\n",
       "      <td>1.5</td>\n",
       "    </tr>\n",
       "    <tr>\n",
       "      <th>12086</th>\n",
       "      <td>A Class</td>\n",
       "      <td>2016</td>\n",
       "      <td>12000</td>\n",
       "      <td>Manual</td>\n",
       "      <td>33469</td>\n",
       "      <td>Diesel</td>\n",
       "      <td>0</td>\n",
       "      <td>80.7</td>\n",
       "      <td>1.5</td>\n",
       "    </tr>\n",
       "    <tr>\n",
       "      <th>12114</th>\n",
       "      <td>A Class</td>\n",
       "      <td>2017</td>\n",
       "      <td>14500</td>\n",
       "      <td>Automatic</td>\n",
       "      <td>27402</td>\n",
       "      <td>Diesel</td>\n",
       "      <td>0</td>\n",
       "      <td>76.4</td>\n",
       "      <td>1.5</td>\n",
       "    </tr>\n",
       "    <tr>\n",
       "      <th>12214</th>\n",
       "      <td>A Class</td>\n",
       "      <td>2017</td>\n",
       "      <td>12800</td>\n",
       "      <td>Automatic</td>\n",
       "      <td>33102</td>\n",
       "      <td>Diesel</td>\n",
       "      <td>0</td>\n",
       "      <td>76.4</td>\n",
       "      <td>1.5</td>\n",
       "    </tr>\n",
       "    <tr>\n",
       "      <th>12236</th>\n",
       "      <td>A Class</td>\n",
       "      <td>2016</td>\n",
       "      <td>11500</td>\n",
       "      <td>Manual</td>\n",
       "      <td>45882</td>\n",
       "      <td>Diesel</td>\n",
       "      <td>0</td>\n",
       "      <td>80.7</td>\n",
       "      <td>1.5</td>\n",
       "    </tr>\n",
       "    <tr>\n",
       "      <th>12380</th>\n",
       "      <td>A Class</td>\n",
       "      <td>2017</td>\n",
       "      <td>12600</td>\n",
       "      <td>Manual</td>\n",
       "      <td>25535</td>\n",
       "      <td>Diesel</td>\n",
       "      <td>0</td>\n",
       "      <td>80.7</td>\n",
       "      <td>1.5</td>\n",
       "    </tr>\n",
       "    <tr>\n",
       "      <th>12393</th>\n",
       "      <td>A Class</td>\n",
       "      <td>2017</td>\n",
       "      <td>10900</td>\n",
       "      <td>Manual</td>\n",
       "      <td>54448</td>\n",
       "      <td>Diesel</td>\n",
       "      <td>0</td>\n",
       "      <td>80.7</td>\n",
       "      <td>1.5</td>\n",
       "    </tr>\n",
       "    <tr>\n",
       "      <th>12456</th>\n",
       "      <td>A Class</td>\n",
       "      <td>2014</td>\n",
       "      <td>9500</td>\n",
       "      <td>Manual</td>\n",
       "      <td>52220</td>\n",
       "      <td>Diesel</td>\n",
       "      <td>0</td>\n",
       "      <td>78.5</td>\n",
       "      <td>1.5</td>\n",
       "    </tr>\n",
       "    <tr>\n",
       "      <th>12543</th>\n",
       "      <td>A Class</td>\n",
       "      <td>2016</td>\n",
       "      <td>11500</td>\n",
       "      <td>Manual</td>\n",
       "      <td>38698</td>\n",
       "      <td>Diesel</td>\n",
       "      <td>0</td>\n",
       "      <td>80.7</td>\n",
       "      <td>1.5</td>\n",
       "    </tr>\n",
       "    <tr>\n",
       "      <th>12625</th>\n",
       "      <td>A Class</td>\n",
       "      <td>2016</td>\n",
       "      <td>12750</td>\n",
       "      <td>Manual</td>\n",
       "      <td>20458</td>\n",
       "      <td>Diesel</td>\n",
       "      <td>0</td>\n",
       "      <td>80.7</td>\n",
       "      <td>1.5</td>\n",
       "    </tr>\n",
       "    <tr>\n",
       "      <th>12626</th>\n",
       "      <td>A Class</td>\n",
       "      <td>2016</td>\n",
       "      <td>11400</td>\n",
       "      <td>Manual</td>\n",
       "      <td>44277</td>\n",
       "      <td>Diesel</td>\n",
       "      <td>0</td>\n",
       "      <td>80.7</td>\n",
       "      <td>1.5</td>\n",
       "    </tr>\n",
       "  </tbody>\n",
       "</table>\n",
       "</div>"
      ],
      "text/plain": [
       "          model  year  price transmission  mileage fuelType  tax   mpg  \\\n",
       "512     A Class  2015  11498       Manual    32648   Diesel    0  74.3   \n",
       "917     A Class  2016  13695       Manual    41600   Diesel    0  80.7   \n",
       "1131    B Class  2014   8200       Manual    39331   Diesel    0  74.3   \n",
       "1544    A Class  2014  10490       Manual    37642   Diesel    0  78.5   \n",
       "1577    A Class  2015  10490    Semi-Auto    49816   Diesel    0  70.6   \n",
       "1666    A Class  2014   9761       Manual    50116   Diesel    0  78.5   \n",
       "2369    A Class  2014  11915       Manual    12522   Diesel    0  78.5   \n",
       "3981    A Class  2015  11444       Manual    27000   Diesel    0  74.3   \n",
       "3994    A Class  2016  13823    Automatic    25151   Diesel    0  76.4   \n",
       "5134    A Class  2016  14552    Semi-Auto    25653   Diesel    0  76.4   \n",
       "5339    A Class  2014  10932       Manual    38510   Diesel    0  78.5   \n",
       "5676    B Class  2014   8490       Manual    75894   Diesel    0  74.3   \n",
       "5859    A Class  2013   9608       Manual    41966   Diesel    0  74.3   \n",
       "5987    A Class  2017  13782       Manual    20218   Diesel    0  80.7   \n",
       "6242    A Class  2015  11480       Manual    47552   Diesel    0  80.7   \n",
       "6246    A Class  2017  14490    Semi-Auto    42670   Diesel    0  74.3   \n",
       "7001    A Class  2016  12149       Manual    36001   Diesel    0  80.7   \n",
       "9600    A Class  2014   9977       Manual    55000   Diesel    0  78.5   \n",
       "9602    A Class  2017  13477       Manual    40000   Diesel    0  80.7   \n",
       "9603    A Class  2017  13477       Manual    43000   Diesel    0  80.7   \n",
       "9608    A Class  2016  13150    Automatic    39000   Diesel    0  76.4   \n",
       "9676    A Class  2016  12400    Semi-Auto    72000   Diesel    0  76.4   \n",
       "9712    A Class  2016  12990    Automatic    34000   Diesel    0  74.3   \n",
       "9721    A Class  2016  10490       Manual    63000   Diesel    0  80.7   \n",
       "9731    A Class  2016  12490       Manual    18000   Diesel    0  80.7   \n",
       "9751    A Class  2016   9990       Manual    82000   Diesel    0  80.7   \n",
       "9914    A Class  2016  11849       Manual    27958   Diesel    0  80.7   \n",
       "10049   A Class  2014  10498       Manual    73000   Diesel    0  78.5   \n",
       "10109   A Class  2016  12999       Manual    22786   Diesel    0  80.7   \n",
       "10213   A Class  2014  10649       Manual    44140   Diesel    0  78.5   \n",
       "10232   A Class  2015  11499    Automatic    40373   Diesel    0  70.6   \n",
       "10245   A Class  2017  13499    Automatic    48866   Diesel    0  76.4   \n",
       "10307   A Class  2016  11999       Manual    40276   Diesel    0  80.7   \n",
       "10473   A Class  2016  10699       Manual    57924   Diesel    0  80.7   \n",
       "10744   B Class  2015   8800       Manual    43543   Diesel    0  78.5   \n",
       "10961   A Class  2016  11724       Manual    54585   Diesel    0  80.7   \n",
       "11112   A Class  2016  12500       Manual    24810   Diesel    0  80.7   \n",
       "11172   A Class  2013   9990       Manual    32713   Diesel    0  74.3   \n",
       "11287   A Class  2016  12999       Manual    18593   Diesel    0  80.7   \n",
       "11333   A Class  2016  13699    Automatic    31817   Diesel    0  76.4   \n",
       "11387   A Class  2013   8495       Manual    74000   Diesel    0  74.3   \n",
       "11415   A Class  2016  13599    Automatic    29917   Diesel    0  74.3   \n",
       "11484   A Class  2013  10559       Manual    34408   Diesel    0  74.3   \n",
       "11571   A Class  2016   9295       Manual   111410   Diesel    0  80.7   \n",
       "11825   A Class  2014   9800       Manual    53553   Diesel    0  78.5   \n",
       "12086   A Class  2016  12000       Manual    33469   Diesel    0  80.7   \n",
       "12114   A Class  2017  14500    Automatic    27402   Diesel    0  76.4   \n",
       "12214   A Class  2017  12800    Automatic    33102   Diesel    0  76.4   \n",
       "12236   A Class  2016  11500       Manual    45882   Diesel    0  80.7   \n",
       "12380   A Class  2017  12600       Manual    25535   Diesel    0  80.7   \n",
       "12393   A Class  2017  10900       Manual    54448   Diesel    0  80.7   \n",
       "12456   A Class  2014   9500       Manual    52220   Diesel    0  78.5   \n",
       "12543   A Class  2016  11500       Manual    38698   Diesel    0  80.7   \n",
       "12625   A Class  2016  12750       Manual    20458   Diesel    0  80.7   \n",
       "12626   A Class  2016  11400       Manual    44277   Diesel    0  80.7   \n",
       "\n",
       "       engineSize  \n",
       "512           1.5  \n",
       "917           1.5  \n",
       "1131          1.5  \n",
       "1544          1.5  \n",
       "1577          1.5  \n",
       "1666          1.5  \n",
       "2369          1.5  \n",
       "3981          1.5  \n",
       "3994          1.5  \n",
       "5134          1.5  \n",
       "5339          1.5  \n",
       "5676          1.5  \n",
       "5859          1.5  \n",
       "5987          1.5  \n",
       "6242          1.5  \n",
       "6246          2.1  \n",
       "7001          1.5  \n",
       "9600          1.5  \n",
       "9602          1.5  \n",
       "9603          1.5  \n",
       "9608          1.5  \n",
       "9676          1.5  \n",
       "9712          2.1  \n",
       "9721          1.5  \n",
       "9731          1.5  \n",
       "9751          1.5  \n",
       "9914          1.5  \n",
       "10049         1.5  \n",
       "10109         1.5  \n",
       "10213         1.5  \n",
       "10232         1.5  \n",
       "10245         1.5  \n",
       "10307         1.5  \n",
       "10473         1.5  \n",
       "10744         1.5  \n",
       "10961         1.5  \n",
       "11112         1.5  \n",
       "11172         1.5  \n",
       "11287         1.5  \n",
       "11333         1.5  \n",
       "11387         1.5  \n",
       "11415         2.1  \n",
       "11484         1.5  \n",
       "11571         1.5  \n",
       "11825         1.5  \n",
       "12086         1.5  \n",
       "12114         1.5  \n",
       "12214         1.5  \n",
       "12236         1.5  \n",
       "12380         1.5  \n",
       "12393         1.5  \n",
       "12456         1.5  \n",
       "12543         1.5  \n",
       "12625         1.5  \n",
       "12626         1.5  "
      ]
     },
     "execution_count": 403,
     "metadata": {},
     "output_type": "execute_result"
    }
   ],
   "source": [
    "uk_merc[uk_merc['tax'] == 0]"
   ]
  },
  {
   "cell_type": "markdown",
   "id": "d901b1e9",
   "metadata": {},
   "source": [
    "I've made small research and discover: cars registered after March 1 2001 are classified into a range of bands according to their level of CO2 emissions, with cars in higher bands generally being subject to higher rates of road tax. Cars with \"band A\" have tax-free."
   ]
  },
  {
   "cell_type": "code",
   "execution_count": 404,
   "id": "cc21a418",
   "metadata": {},
   "outputs": [
    {
     "data": {
      "text/plain": [
       "<AxesSubplot:>"
      ]
     },
     "execution_count": 404,
     "metadata": {},
     "output_type": "execute_result"
    },
    {
     "data": {
      "image/png": "[encoded data removed]",
      "text/plain": [
       "<Figure size 432x288 with 1 Axes>"
      ]
     },
     "metadata": {
      "needs_background": "light"
     },
     "output_type": "display_data"
    }
   ],
   "source": [
    "uk_merc[uk_merc['tax'] < 190].boxplot('tax')"
   ]
  },
  {
   "cell_type": "code",
   "execution_count": 405,
   "id": "3825128f",
   "metadata": {},
   "outputs": [
    {
     "data": {
      "text/plain": [
       "model       year  price  transmission  mileage  fuelType  tax  mpg   engineSize\n",
       " A Class    2013  21495  Semi-Auto     14700    Petrol    200  40.9  2.0           1\n",
       " M Class    2013  15200  Semi-Auto     61363    Diesel    200  44.8  2.1           1\n",
       " GLS Class  2017  38250  Automatic     7208     Diesel    305  37.2  3.0           1\n",
       "                  38343  Automatic     26452    Diesel    305  37.2  3.0           1\n",
       "                  38459  Automatic     25237    Diesel    305  37.2  3.0           1\n",
       "                                                                                  ..\n",
       " GL Class   2016  35371  Automatic     14253    Diesel    325  36.2  3.0           1\n",
       "                  36500  Automatic     16000    Diesel    300  36.2  3.0           1\n",
       "                  38362  Semi-Auto     17000    Diesel    305  36.2  3.0           1\n",
       "            2017  27990  Automatic     24000    Diesel    200  47.9  2.1           1\n",
       " X-CLASS    2020  31991  Automatic     303      Diesel    265  35.8  2.3           1\n",
       "Length: 632, dtype: int64"
      ]
     },
     "execution_count": 405,
     "metadata": {},
     "output_type": "execute_result"
    }
   ],
   "source": [
    "uk_merc[uk_merc['tax'] > 190].value_counts()"
   ]
  },
  {
   "cell_type": "markdown",
   "id": "20a72005",
   "metadata": {},
   "source": [
    "We have only 600+ cars with huge tax (it's because some cars has sport or high-volumed engines), for that analysis we can drop them"
   ]
  },
  {
   "cell_type": "code",
   "execution_count": 406,
   "id": "6e97c021",
   "metadata": {},
   "outputs": [],
   "source": [
    "uk_merc = uk_merc[uk_merc['tax'] < 190]"
   ]
  },
  {
   "cell_type": "code",
   "execution_count": 407,
   "id": "418e5913",
   "metadata": {},
   "outputs": [
    {
     "data": {
      "text/plain": [
       "<AxesSubplot:>"
      ]
     },
     "execution_count": 407,
     "metadata": {},
     "output_type": "execute_result"
    },
    {
     "data": {
      "image/png": "[encoded data removed]",
      "text/plain": [
       "<Figure size 432x288 with 1 Axes>"
      ]
     },
     "metadata": {
      "needs_background": "light"
     },
     "output_type": "display_data"
    }
   ],
   "source": [
    "uk_merc['mpg'].hist()"
   ]
  },
  {
   "cell_type": "code",
   "execution_count": 408,
   "id": "a90a3e47",
   "metadata": {},
   "outputs": [
    {
     "data": {
      "text/plain": [
       "<AxesSubplot:>"
      ]
     },
     "execution_count": 408,
     "metadata": {},
     "output_type": "execute_result"
    },
    {
     "data": {
      "image/png": "[encoded data removed]",
      "text/plain": [
       "<Figure size 432x288 with 1 Axes>"
      ]
     },
     "metadata": {
      "needs_background": "light"
     },
     "output_type": "display_data"
    }
   ],
   "source": [
    "uk_merc['engineSize'].hist()"
   ]
  },
  {
   "cell_type": "code",
   "execution_count": 409,
   "id": "6f5cc664",
   "metadata": {},
   "outputs": [
    {
     "data": {
      "text/html": [
       "<div>\n",
       "<style scoped>\n",
       "    .dataframe tbody tr th:only-of-type {\n",
       "        vertical-align: middle;\n",
       "    }\n",
       "\n",
       "    .dataframe tbody tr th {\n",
       "        vertical-align: top;\n",
       "    }\n",
       "\n",
       "    .dataframe thead th {\n",
       "        text-align: right;\n",
       "    }\n",
       "</style>\n",
       "<table border=\"1\" class=\"dataframe\">\n",
       "  <thead>\n",
       "    <tr style=\"text-align: right;\">\n",
       "      <th></th>\n",
       "      <th>model</th>\n",
       "      <th>year</th>\n",
       "      <th>price</th>\n",
       "      <th>transmission</th>\n",
       "      <th>mileage</th>\n",
       "      <th>fuelType</th>\n",
       "      <th>tax</th>\n",
       "      <th>mpg</th>\n",
       "      <th>engineSize</th>\n",
       "    </tr>\n",
       "  </thead>\n",
       "  <tbody>\n",
       "    <tr>\n",
       "      <th>9618</th>\n",
       "      <td>A Class</td>\n",
       "      <td>2016</td>\n",
       "      <td>17500</td>\n",
       "      <td>Automatic</td>\n",
       "      <td>29712</td>\n",
       "      <td>Diesel</td>\n",
       "      <td>20</td>\n",
       "      <td>68.9</td>\n",
       "      <td>0.0</td>\n",
       "    </tr>\n",
       "    <tr>\n",
       "      <th>9619</th>\n",
       "      <td>A Class</td>\n",
       "      <td>2018</td>\n",
       "      <td>20500</td>\n",
       "      <td>Automatic</td>\n",
       "      <td>13386</td>\n",
       "      <td>Petrol</td>\n",
       "      <td>145</td>\n",
       "      <td>53.3</td>\n",
       "      <td>0.0</td>\n",
       "    </tr>\n",
       "    <tr>\n",
       "      <th>9621</th>\n",
       "      <td>A Class</td>\n",
       "      <td>2018</td>\n",
       "      <td>18000</td>\n",
       "      <td>Automatic</td>\n",
       "      <td>18347</td>\n",
       "      <td>Diesel</td>\n",
       "      <td>150</td>\n",
       "      <td>65.7</td>\n",
       "      <td>0.0</td>\n",
       "    </tr>\n",
       "    <tr>\n",
       "      <th>9654</th>\n",
       "      <td>A Class</td>\n",
       "      <td>2016</td>\n",
       "      <td>17800</td>\n",
       "      <td>Automatic</td>\n",
       "      <td>21913</td>\n",
       "      <td>Diesel</td>\n",
       "      <td>20</td>\n",
       "      <td>68.9</td>\n",
       "      <td>0.0</td>\n",
       "    </tr>\n",
       "    <tr>\n",
       "      <th>10675</th>\n",
       "      <td>SL CLASS</td>\n",
       "      <td>2016</td>\n",
       "      <td>16500</td>\n",
       "      <td>Automatic</td>\n",
       "      <td>26955</td>\n",
       "      <td>Diesel</td>\n",
       "      <td>30</td>\n",
       "      <td>70.6</td>\n",
       "      <td>0.0</td>\n",
       "    </tr>\n",
       "    <tr>\n",
       "      <th>10710</th>\n",
       "      <td>A Class</td>\n",
       "      <td>2018</td>\n",
       "      <td>17500</td>\n",
       "      <td>Automatic</td>\n",
       "      <td>19796</td>\n",
       "      <td>Diesel</td>\n",
       "      <td>145</td>\n",
       "      <td>74.3</td>\n",
       "      <td>0.0</td>\n",
       "    </tr>\n",
       "    <tr>\n",
       "      <th>10739</th>\n",
       "      <td>GLA Class</td>\n",
       "      <td>2017</td>\n",
       "      <td>16000</td>\n",
       "      <td>Manual</td>\n",
       "      <td>34635</td>\n",
       "      <td>Diesel</td>\n",
       "      <td>30</td>\n",
       "      <td>64.2</td>\n",
       "      <td>0.0</td>\n",
       "    </tr>\n",
       "    <tr>\n",
       "      <th>10815</th>\n",
       "      <td>A Class</td>\n",
       "      <td>2017</td>\n",
       "      <td>18000</td>\n",
       "      <td>Automatic</td>\n",
       "      <td>33282</td>\n",
       "      <td>Diesel</td>\n",
       "      <td>145</td>\n",
       "      <td>68.9</td>\n",
       "      <td>0.0</td>\n",
       "    </tr>\n",
       "    <tr>\n",
       "      <th>11183</th>\n",
       "      <td>E Class</td>\n",
       "      <td>2018</td>\n",
       "      <td>22738</td>\n",
       "      <td>Automatic</td>\n",
       "      <td>24000</td>\n",
       "      <td>Diesel</td>\n",
       "      <td>150</td>\n",
       "      <td>61.4</td>\n",
       "      <td>0.0</td>\n",
       "    </tr>\n",
       "  </tbody>\n",
       "</table>\n",
       "</div>"
      ],
      "text/plain": [
       "            model  year  price transmission  mileage fuelType  tax   mpg  \\\n",
       "9618      A Class  2016  17500    Automatic    29712   Diesel   20  68.9   \n",
       "9619      A Class  2018  20500    Automatic    13386   Petrol  145  53.3   \n",
       "9621      A Class  2018  18000    Automatic    18347   Diesel  150  65.7   \n",
       "9654      A Class  2016  17800    Automatic    21913   Diesel   20  68.9   \n",
       "10675    SL CLASS  2016  16500    Automatic    26955   Diesel   30  70.6   \n",
       "10710     A Class  2018  17500    Automatic    19796   Diesel  145  74.3   \n",
       "10739   GLA Class  2017  16000       Manual    34635   Diesel   30  64.2   \n",
       "10815     A Class  2017  18000    Automatic    33282   Diesel  145  68.9   \n",
       "11183     E Class  2018  22738    Automatic    24000   Diesel  150  61.4   \n",
       "\n",
       "       engineSize  \n",
       "9618          0.0  \n",
       "9619          0.0  \n",
       "9621          0.0  \n",
       "9654          0.0  \n",
       "10675         0.0  \n",
       "10710         0.0  \n",
       "10739         0.0  \n",
       "10815         0.0  \n",
       "11183         0.0  "
      ]
     },
     "execution_count": 409,
     "metadata": {},
     "output_type": "execute_result"
    }
   ],
   "source": [
    "uk_merc[uk_merc['engineSize'] < 1]"
   ]
  },
  {
   "cell_type": "markdown",
   "id": "f39c8d0a",
   "metadata": {},
   "source": [
    "It's absolutely mistake, drop that values"
   ]
  },
  {
   "cell_type": "code",
   "execution_count": 410,
   "id": "662e7c36",
   "metadata": {},
   "outputs": [],
   "source": [
    "uk_merc = uk_merc[uk_merc['engineSize'] > 1]"
   ]
  },
  {
   "cell_type": "code",
   "execution_count": 411,
   "id": "5884038a",
   "metadata": {},
   "outputs": [
    {
     "data": {
      "text/html": [
       "<div>\n",
       "<style scoped>\n",
       "    .dataframe tbody tr th:only-of-type {\n",
       "        vertical-align: middle;\n",
       "    }\n",
       "\n",
       "    .dataframe tbody tr th {\n",
       "        vertical-align: top;\n",
       "    }\n",
       "\n",
       "    .dataframe thead th {\n",
       "        text-align: right;\n",
       "    }\n",
       "</style>\n",
       "<table border=\"1\" class=\"dataframe\">\n",
       "  <thead>\n",
       "    <tr style=\"text-align: right;\">\n",
       "      <th></th>\n",
       "      <th>model</th>\n",
       "      <th>year</th>\n",
       "      <th>price</th>\n",
       "      <th>transmission</th>\n",
       "      <th>mileage</th>\n",
       "      <th>fuelType</th>\n",
       "      <th>tax</th>\n",
       "      <th>mpg</th>\n",
       "      <th>engineSize</th>\n",
       "    </tr>\n",
       "  </thead>\n",
       "  <tbody>\n",
       "    <tr>\n",
       "      <th>1923</th>\n",
       "      <td>CLS Class</td>\n",
       "      <td>2017</td>\n",
       "      <td>28995</td>\n",
       "      <td>Semi-Auto</td>\n",
       "      <td>8591</td>\n",
       "      <td>Petrol</td>\n",
       "      <td>150</td>\n",
       "      <td>39.2</td>\n",
       "      <td>3.5</td>\n",
       "    </tr>\n",
       "    <tr>\n",
       "      <th>2177</th>\n",
       "      <td>C Class</td>\n",
       "      <td>2017</td>\n",
       "      <td>35420</td>\n",
       "      <td>Semi-Auto</td>\n",
       "      <td>24057</td>\n",
       "      <td>Petrol</td>\n",
       "      <td>150</td>\n",
       "      <td>34.5</td>\n",
       "      <td>4.0</td>\n",
       "    </tr>\n",
       "    <tr>\n",
       "      <th>5549</th>\n",
       "      <td>C Class</td>\n",
       "      <td>2018</td>\n",
       "      <td>33690</td>\n",
       "      <td>Semi-Auto</td>\n",
       "      <td>12055</td>\n",
       "      <td>Petrol</td>\n",
       "      <td>145</td>\n",
       "      <td>40.9</td>\n",
       "      <td>4.0</td>\n",
       "    </tr>\n",
       "    <tr>\n",
       "      <th>6310</th>\n",
       "      <td>C Class</td>\n",
       "      <td>2017</td>\n",
       "      <td>36895</td>\n",
       "      <td>Semi-Auto</td>\n",
       "      <td>20699</td>\n",
       "      <td>Petrol</td>\n",
       "      <td>145</td>\n",
       "      <td>33.6</td>\n",
       "      <td>4.0</td>\n",
       "    </tr>\n",
       "    <tr>\n",
       "      <th>8423</th>\n",
       "      <td>C Class</td>\n",
       "      <td>2017</td>\n",
       "      <td>41399</td>\n",
       "      <td>Semi-Auto</td>\n",
       "      <td>8797</td>\n",
       "      <td>Petrol</td>\n",
       "      <td>145</td>\n",
       "      <td>32.8</td>\n",
       "      <td>4.0</td>\n",
       "    </tr>\n",
       "    <tr>\n",
       "      <th>8940</th>\n",
       "      <td>SL CLASS</td>\n",
       "      <td>2017</td>\n",
       "      <td>39999</td>\n",
       "      <td>Semi-Auto</td>\n",
       "      <td>19200</td>\n",
       "      <td>Petrol</td>\n",
       "      <td>145</td>\n",
       "      <td>31.4</td>\n",
       "      <td>4.7</td>\n",
       "    </tr>\n",
       "    <tr>\n",
       "      <th>9782</th>\n",
       "      <td>C Class</td>\n",
       "      <td>2017</td>\n",
       "      <td>33990</td>\n",
       "      <td>Automatic</td>\n",
       "      <td>30000</td>\n",
       "      <td>Petrol</td>\n",
       "      <td>145</td>\n",
       "      <td>33.6</td>\n",
       "      <td>4.0</td>\n",
       "    </tr>\n",
       "    <tr>\n",
       "      <th>11682</th>\n",
       "      <td>C Class</td>\n",
       "      <td>2017</td>\n",
       "      <td>36000</td>\n",
       "      <td>Automatic</td>\n",
       "      <td>45979</td>\n",
       "      <td>Petrol</td>\n",
       "      <td>150</td>\n",
       "      <td>34.5</td>\n",
       "      <td>4.0</td>\n",
       "    </tr>\n",
       "  </tbody>\n",
       "</table>\n",
       "</div>"
      ],
      "text/plain": [
       "            model  year  price transmission  mileage fuelType  tax   mpg  \\\n",
       "1923    CLS Class  2017  28995    Semi-Auto     8591   Petrol  150  39.2   \n",
       "2177      C Class  2017  35420    Semi-Auto    24057   Petrol  150  34.5   \n",
       "5549      C Class  2018  33690    Semi-Auto    12055   Petrol  145  40.9   \n",
       "6310      C Class  2017  36895    Semi-Auto    20699   Petrol  145  33.6   \n",
       "8423      C Class  2017  41399    Semi-Auto     8797   Petrol  145  32.8   \n",
       "8940     SL CLASS  2017  39999    Semi-Auto    19200   Petrol  145  31.4   \n",
       "9782      C Class  2017  33990    Automatic    30000   Petrol  145  33.6   \n",
       "11682     C Class  2017  36000    Automatic    45979   Petrol  150  34.5   \n",
       "\n",
       "       engineSize  \n",
       "1923          3.5  \n",
       "2177          4.0  \n",
       "5549          4.0  \n",
       "6310          4.0  \n",
       "8423          4.0  \n",
       "8940          4.7  \n",
       "9782          4.0  \n",
       "11682         4.0  "
      ]
     },
     "execution_count": 411,
     "metadata": {},
     "output_type": "execute_result"
    }
   ],
   "source": [
    "uk_merc[uk_merc['engineSize'] >= 3.5]"
   ]
  },
  {
   "cell_type": "code",
   "execution_count": 412,
   "id": "edf96f77",
   "metadata": {},
   "outputs": [
    {
     "data": {
      "text/html": [
       "<div>\n",
       "<style scoped>\n",
       "    .dataframe tbody tr th:only-of-type {\n",
       "        vertical-align: middle;\n",
       "    }\n",
       "\n",
       "    .dataframe tbody tr th {\n",
       "        vertical-align: top;\n",
       "    }\n",
       "\n",
       "    .dataframe thead th {\n",
       "        text-align: right;\n",
       "    }\n",
       "</style>\n",
       "<table border=\"1\" class=\"dataframe\">\n",
       "  <thead>\n",
       "    <tr style=\"text-align: right;\">\n",
       "      <th></th>\n",
       "      <th>model</th>\n",
       "      <th>year</th>\n",
       "      <th>price</th>\n",
       "      <th>transmission</th>\n",
       "      <th>mileage</th>\n",
       "      <th>fuelType</th>\n",
       "      <th>tax</th>\n",
       "      <th>mpg</th>\n",
       "      <th>engineSize</th>\n",
       "    </tr>\n",
       "  </thead>\n",
       "  <tbody>\n",
       "    <tr>\n",
       "      <th>6</th>\n",
       "      <td>GLE Class</td>\n",
       "      <td>2018</td>\n",
       "      <td>30948</td>\n",
       "      <td>Automatic</td>\n",
       "      <td>16000</td>\n",
       "      <td>Diesel</td>\n",
       "      <td>145</td>\n",
       "      <td>47.9</td>\n",
       "      <td>2.1</td>\n",
       "    </tr>\n",
       "    <tr>\n",
       "      <th>9</th>\n",
       "      <td>GLA Class</td>\n",
       "      <td>2017</td>\n",
       "      <td>19750</td>\n",
       "      <td>Automatic</td>\n",
       "      <td>15258</td>\n",
       "      <td>Diesel</td>\n",
       "      <td>30</td>\n",
       "      <td>64.2</td>\n",
       "      <td>2.1</td>\n",
       "    </tr>\n",
       "    <tr>\n",
       "      <th>10</th>\n",
       "      <td>A Class</td>\n",
       "      <td>2020</td>\n",
       "      <td>32980</td>\n",
       "      <td>Automatic</td>\n",
       "      <td>606</td>\n",
       "      <td>Petrol</td>\n",
       "      <td>145</td>\n",
       "      <td>35.8</td>\n",
       "      <td>2.0</td>\n",
       "    </tr>\n",
       "    <tr>\n",
       "      <th>11</th>\n",
       "      <td>A Class</td>\n",
       "      <td>2020</td>\n",
       "      <td>26980</td>\n",
       "      <td>Automatic</td>\n",
       "      <td>1000</td>\n",
       "      <td>Diesel</td>\n",
       "      <td>145</td>\n",
       "      <td>62.8</td>\n",
       "      <td>1.5</td>\n",
       "    </tr>\n",
       "    <tr>\n",
       "      <th>12</th>\n",
       "      <td>B Class</td>\n",
       "      <td>2019</td>\n",
       "      <td>23750</td>\n",
       "      <td>Automatic</td>\n",
       "      <td>278</td>\n",
       "      <td>Diesel</td>\n",
       "      <td>145</td>\n",
       "      <td>55.4</td>\n",
       "      <td>2.0</td>\n",
       "    </tr>\n",
       "    <tr>\n",
       "      <th>...</th>\n",
       "      <td>...</td>\n",
       "      <td>...</td>\n",
       "      <td>...</td>\n",
       "      <td>...</td>\n",
       "      <td>...</td>\n",
       "      <td>...</td>\n",
       "      <td>...</td>\n",
       "      <td>...</td>\n",
       "      <td>...</td>\n",
       "    </tr>\n",
       "    <tr>\n",
       "      <th>13113</th>\n",
       "      <td>C Class</td>\n",
       "      <td>2020</td>\n",
       "      <td>30999</td>\n",
       "      <td>Automatic</td>\n",
       "      <td>1000</td>\n",
       "      <td>Diesel</td>\n",
       "      <td>145</td>\n",
       "      <td>64.2</td>\n",
       "      <td>2.0</td>\n",
       "    </tr>\n",
       "    <tr>\n",
       "      <th>13114</th>\n",
       "      <td>C Class</td>\n",
       "      <td>2020</td>\n",
       "      <td>35999</td>\n",
       "      <td>Automatic</td>\n",
       "      <td>500</td>\n",
       "      <td>Diesel</td>\n",
       "      <td>145</td>\n",
       "      <td>55.4</td>\n",
       "      <td>2.0</td>\n",
       "    </tr>\n",
       "    <tr>\n",
       "      <th>13115</th>\n",
       "      <td>B Class</td>\n",
       "      <td>2020</td>\n",
       "      <td>24699</td>\n",
       "      <td>Automatic</td>\n",
       "      <td>2500</td>\n",
       "      <td>Diesel</td>\n",
       "      <td>145</td>\n",
       "      <td>55.4</td>\n",
       "      <td>2.0</td>\n",
       "    </tr>\n",
       "    <tr>\n",
       "      <th>13116</th>\n",
       "      <td>GLC Class</td>\n",
       "      <td>2019</td>\n",
       "      <td>30999</td>\n",
       "      <td>Automatic</td>\n",
       "      <td>11612</td>\n",
       "      <td>Diesel</td>\n",
       "      <td>145</td>\n",
       "      <td>41.5</td>\n",
       "      <td>2.1</td>\n",
       "    </tr>\n",
       "    <tr>\n",
       "      <th>13117</th>\n",
       "      <td>CLS Class</td>\n",
       "      <td>2019</td>\n",
       "      <td>37990</td>\n",
       "      <td>Automatic</td>\n",
       "      <td>2426</td>\n",
       "      <td>Diesel</td>\n",
       "      <td>145</td>\n",
       "      <td>45.6</td>\n",
       "      <td>2.0</td>\n",
       "    </tr>\n",
       "  </tbody>\n",
       "</table>\n",
       "<p>10825 rows × 9 columns</p>\n",
       "</div>"
      ],
      "text/plain": [
       "            model  year  price transmission  mileage fuelType  tax   mpg  \\\n",
       "6       GLE Class  2018  30948    Automatic    16000   Diesel  145  47.9   \n",
       "9       GLA Class  2017  19750    Automatic    15258   Diesel   30  64.2   \n",
       "10        A Class  2020  32980    Automatic      606   Petrol  145  35.8   \n",
       "11        A Class  2020  26980    Automatic     1000   Diesel  145  62.8   \n",
       "12        B Class  2019  23750    Automatic      278   Diesel  145  55.4   \n",
       "...           ...   ...    ...          ...      ...      ...  ...   ...   \n",
       "13113     C Class  2020  30999    Automatic     1000   Diesel  145  64.2   \n",
       "13114     C Class  2020  35999    Automatic      500   Diesel  145  55.4   \n",
       "13115     B Class  2020  24699    Automatic     2500   Diesel  145  55.4   \n",
       "13116   GLC Class  2019  30999    Automatic    11612   Diesel  145  41.5   \n",
       "13117   CLS Class  2019  37990    Automatic     2426   Diesel  145  45.6   \n",
       "\n",
       "       engineSize  \n",
       "6             2.1  \n",
       "9             2.1  \n",
       "10            2.0  \n",
       "11            1.5  \n",
       "12            2.0  \n",
       "...           ...  \n",
       "13113         2.0  \n",
       "13114         2.0  \n",
       "13115         2.0  \n",
       "13116         2.1  \n",
       "13117         2.0  \n",
       "\n",
       "[10825 rows x 9 columns]"
      ]
     },
     "execution_count": 412,
     "metadata": {},
     "output_type": "execute_result"
    }
   ],
   "source": [
    "uk_merc"
   ]
  },
  {
   "cell_type": "markdown",
   "id": "56fc814c",
   "metadata": {},
   "source": [
    "I think we're done, I cleaned all mistakes and missing values. I've many data so I can just drop values I am not interested in. Now let's move on to dependencies and relationships between variables."
   ]
  },
  {
   "cell_type": "code",
   "execution_count": 413,
   "id": "70cfac62",
   "metadata": {},
   "outputs": [
    {
     "data": {
      "text/plain": [
       "(0.717149926728933, 0.0)"
      ]
     },
     "execution_count": 413,
     "metadata": {},
     "output_type": "execute_result"
    },
    {
     "data": {
      "image/png": "[encoded data removed]",
      "text/plain": [
       "<Figure size 1152x864 with 1 Axes>"
      ]
     },
     "metadata": {
      "needs_background": "light"
     },
     "output_type": "display_data"
    }
   ],
   "source": [
    "plt.figure(figsize=(16,12))\n",
    "plt.xticks(rotation=90)\n",
    "sns.scatterplot(data=uk_merc, x=uk_merc.year, y=uk_merc.price)\n",
    "stats.pearsonr(x=uk_merc.year, y=uk_merc.price)"
   ]
  },
  {
   "cell_type": "code",
   "execution_count": 415,
   "id": "0b1b1ca4",
   "metadata": {},
   "outputs": [
    {
     "data": {
      "text/plain": [
       "<AxesSubplot:xlabel='transmission', ylabel='Percent'>"
      ]
     },
     "execution_count": 415,
     "metadata": {},
     "output_type": "execute_result"
    },
    {
     "data": {
      "image/png": "[encoded data removed]",
      "text/plain": [
       "<Figure size 432x288 with 1 Axes>"
      ]
     },
     "metadata": {
      "needs_background": "light"
     },
     "output_type": "display_data"
    }
   ],
   "source": [
    "sns.histplot(data=uk_merc, x=uk_merc.transmission, stat='percent')"
   ]
  },
  {
   "cell_type": "code",
   "execution_count": 416,
   "id": "3dcad12a",
   "metadata": {},
   "outputs": [
    {
     "data": {
      "text/plain": [
       "<AxesSubplot:xlabel='fuelType', ylabel='Percent'>"
      ]
     },
     "execution_count": 416,
     "metadata": {},
     "output_type": "execute_result"
    },
    {
     "data": {
      "image/png": "[encoded data removed]",
      "text/plain": [
       "<Figure size 432x288 with 1 Axes>"
      ]
     },
     "metadata": {
      "needs_background": "light"
     },
     "output_type": "display_data"
    }
   ],
   "source": [
    "sns.histplot(data=uk_merc, x=uk_merc.fuelType, stat='percent')"
   ]
  },
  {
   "cell_type": "code",
   "execution_count": 323,
   "id": "35113bb9",
   "metadata": {},
   "outputs": [
    {
     "data": {
      "text/html": [
       "<div>\n",
       "<style scoped>\n",
       "    .dataframe tbody tr th:only-of-type {\n",
       "        vertical-align: middle;\n",
       "    }\n",
       "\n",
       "    .dataframe tbody tr th {\n",
       "        vertical-align: top;\n",
       "    }\n",
       "\n",
       "    .dataframe thead th {\n",
       "        text-align: right;\n",
       "    }\n",
       "</style>\n",
       "<table border=\"1\" class=\"dataframe\">\n",
       "  <thead>\n",
       "    <tr style=\"text-align: right;\">\n",
       "      <th></th>\n",
       "      <th>model</th>\n",
       "      <th>year</th>\n",
       "      <th>price</th>\n",
       "      <th>transmission</th>\n",
       "      <th>mileage</th>\n",
       "      <th>fuelType</th>\n",
       "      <th>tax</th>\n",
       "      <th>mpg</th>\n",
       "      <th>engineSize</th>\n",
       "    </tr>\n",
       "  </thead>\n",
       "  <tbody>\n",
       "    <tr>\n",
       "      <th>6</th>\n",
       "      <td>GLE Class</td>\n",
       "      <td>2018</td>\n",
       "      <td>30948</td>\n",
       "      <td>Automatic</td>\n",
       "      <td>16000</td>\n",
       "      <td>Diesel</td>\n",
       "      <td>145</td>\n",
       "      <td>47.9</td>\n",
       "      <td>2.1</td>\n",
       "    </tr>\n",
       "    <tr>\n",
       "      <th>9</th>\n",
       "      <td>GLA Class</td>\n",
       "      <td>2017</td>\n",
       "      <td>19750</td>\n",
       "      <td>Automatic</td>\n",
       "      <td>15258</td>\n",
       "      <td>Diesel</td>\n",
       "      <td>30</td>\n",
       "      <td>64.2</td>\n",
       "      <td>2.1</td>\n",
       "    </tr>\n",
       "    <tr>\n",
       "      <th>10</th>\n",
       "      <td>A Class</td>\n",
       "      <td>2020</td>\n",
       "      <td>32980</td>\n",
       "      <td>Automatic</td>\n",
       "      <td>606</td>\n",
       "      <td>Petrol</td>\n",
       "      <td>145</td>\n",
       "      <td>35.8</td>\n",
       "      <td>2.0</td>\n",
       "    </tr>\n",
       "    <tr>\n",
       "      <th>11</th>\n",
       "      <td>A Class</td>\n",
       "      <td>2020</td>\n",
       "      <td>26980</td>\n",
       "      <td>Automatic</td>\n",
       "      <td>1000</td>\n",
       "      <td>Diesel</td>\n",
       "      <td>145</td>\n",
       "      <td>62.8</td>\n",
       "      <td>1.5</td>\n",
       "    </tr>\n",
       "    <tr>\n",
       "      <th>12</th>\n",
       "      <td>B Class</td>\n",
       "      <td>2019</td>\n",
       "      <td>23750</td>\n",
       "      <td>Automatic</td>\n",
       "      <td>278</td>\n",
       "      <td>Diesel</td>\n",
       "      <td>145</td>\n",
       "      <td>55.4</td>\n",
       "      <td>2.0</td>\n",
       "    </tr>\n",
       "    <tr>\n",
       "      <th>...</th>\n",
       "      <td>...</td>\n",
       "      <td>...</td>\n",
       "      <td>...</td>\n",
       "      <td>...</td>\n",
       "      <td>...</td>\n",
       "      <td>...</td>\n",
       "      <td>...</td>\n",
       "      <td>...</td>\n",
       "      <td>...</td>\n",
       "    </tr>\n",
       "    <tr>\n",
       "      <th>13113</th>\n",
       "      <td>C Class</td>\n",
       "      <td>2020</td>\n",
       "      <td>30999</td>\n",
       "      <td>Automatic</td>\n",
       "      <td>1000</td>\n",
       "      <td>Diesel</td>\n",
       "      <td>145</td>\n",
       "      <td>64.2</td>\n",
       "      <td>2.0</td>\n",
       "    </tr>\n",
       "    <tr>\n",
       "      <th>13114</th>\n",
       "      <td>C Class</td>\n",
       "      <td>2020</td>\n",
       "      <td>35999</td>\n",
       "      <td>Automatic</td>\n",
       "      <td>500</td>\n",
       "      <td>Diesel</td>\n",
       "      <td>145</td>\n",
       "      <td>55.4</td>\n",
       "      <td>2.0</td>\n",
       "    </tr>\n",
       "    <tr>\n",
       "      <th>13115</th>\n",
       "      <td>B Class</td>\n",
       "      <td>2020</td>\n",
       "      <td>24699</td>\n",
       "      <td>Automatic</td>\n",
       "      <td>2500</td>\n",
       "      <td>Diesel</td>\n",
       "      <td>145</td>\n",
       "      <td>55.4</td>\n",
       "      <td>2.0</td>\n",
       "    </tr>\n",
       "    <tr>\n",
       "      <th>13116</th>\n",
       "      <td>GLC Class</td>\n",
       "      <td>2019</td>\n",
       "      <td>30999</td>\n",
       "      <td>Automatic</td>\n",
       "      <td>11612</td>\n",
       "      <td>Diesel</td>\n",
       "      <td>145</td>\n",
       "      <td>41.5</td>\n",
       "      <td>2.1</td>\n",
       "    </tr>\n",
       "    <tr>\n",
       "      <th>13117</th>\n",
       "      <td>CLS Class</td>\n",
       "      <td>2019</td>\n",
       "      <td>37990</td>\n",
       "      <td>Automatic</td>\n",
       "      <td>2426</td>\n",
       "      <td>Diesel</td>\n",
       "      <td>145</td>\n",
       "      <td>45.6</td>\n",
       "      <td>2.0</td>\n",
       "    </tr>\n",
       "  </tbody>\n",
       "</table>\n",
       "<p>11052 rows × 9 columns</p>\n",
       "</div>"
      ],
      "text/plain": [
       "            model  year  price transmission  mileage fuelType  tax   mpg  \\\n",
       "6       GLE Class  2018  30948    Automatic    16000   Diesel  145  47.9   \n",
       "9       GLA Class  2017  19750    Automatic    15258   Diesel   30  64.2   \n",
       "10        A Class  2020  32980    Automatic      606   Petrol  145  35.8   \n",
       "11        A Class  2020  26980    Automatic     1000   Diesel  145  62.8   \n",
       "12        B Class  2019  23750    Automatic      278   Diesel  145  55.4   \n",
       "...           ...   ...    ...          ...      ...      ...  ...   ...   \n",
       "13113     C Class  2020  30999    Automatic     1000   Diesel  145  64.2   \n",
       "13114     C Class  2020  35999    Automatic      500   Diesel  145  55.4   \n",
       "13115     B Class  2020  24699    Automatic     2500   Diesel  145  55.4   \n",
       "13116   GLC Class  2019  30999    Automatic    11612   Diesel  145  41.5   \n",
       "13117   CLS Class  2019  37990    Automatic     2426   Diesel  145  45.6   \n",
       "\n",
       "       engineSize  \n",
       "6             2.1  \n",
       "9             2.1  \n",
       "10            2.0  \n",
       "11            1.5  \n",
       "12            2.0  \n",
       "...           ...  \n",
       "13113         2.0  \n",
       "13114         2.0  \n",
       "13115         2.0  \n",
       "13116         2.1  \n",
       "13117         2.0  \n",
       "\n",
       "[11052 rows x 9 columns]"
      ]
     },
     "execution_count": 323,
     "metadata": {},
     "output_type": "execute_result"
    }
   ],
   "source": [
    "uk_merc"
   ]
  },
  {
   "cell_type": "code",
   "execution_count": 351,
   "id": "15b25fd1",
   "metadata": {},
   "outputs": [
    {
     "data": {
      "text/plain": [
       "(-0.7491510947563995, 0.0)"
      ]
     },
     "execution_count": 351,
     "metadata": {},
     "output_type": "execute_result"
    },
    {
     "data": {
      "image/png": "[encoded data removed]",
      "text/plain": [
       "<Figure size 432x288 with 1 Axes>"
      ]
     },
     "metadata": {
      "needs_background": "light"
     },
     "output_type": "display_data"
    }
   ],
   "source": [
    "sns.scatterplot(data=uk_merc, x=uk_merc.year, y=uk_merc.mileage)\n",
    "stats.pearsonr(x=uk_merc.year, y=uk_merc.mileage)"
   ]
  },
  {
   "cell_type": "markdown",
   "id": "09814746",
   "metadata": {},
   "source": [
    "Let's define the most popular Mercedes models in the UK:"
   ]
  },
  {
   "cell_type": "code",
   "execution_count": 430,
   "id": "8bb0206e",
   "metadata": {},
   "outputs": [
    {
     "data": {
      "text/plain": [
       "<AxesSubplot:xlabel='model', ylabel='count'>"
      ]
     },
     "execution_count": 430,
     "metadata": {},
     "output_type": "execute_result"
    },
    {
     "data": {
      "image/png": "[encoded data removed]",
      "text/plain": [
       "<Figure size 864x720 with 1 Axes>"
      ]
     },
     "metadata": {
      "needs_background": "light"
     },
     "output_type": "display_data"
    }
   ],
   "source": [
    "plt.figure(figsize=(12,10))\n",
    "plt.xticks(rotation=90)\n",
    "count_of_model = uk_merc['model'].value_counts().sort_values(ascending=False)\n",
    "sns.countplot(data=uk_merc, x=uk_merc.model, order=count_of_model.index)"
   ]
  },
  {
   "cell_type": "markdown",
   "id": "856fad1a",
   "metadata": {},
   "source": [
    "Compare models by their engine types:"
   ]
  },
  {
   "cell_type": "code",
   "execution_count": 432,
   "id": "ec26e7ab",
   "metadata": {},
   "outputs": [
    {
     "data": {
      "text/plain": [
       "<AxesSubplot:xlabel='model', ylabel='count'>"
      ]
     },
     "execution_count": 432,
     "metadata": {},
     "output_type": "execute_result"
    },
    {
     "data": {
      "image/png": "[encoded data removed]",
      "text/plain": [
       "<Figure size 864x720 with 1 Axes>"
      ]
     },
     "metadata": {
      "needs_background": "light"
     },
     "output_type": "display_data"
    }
   ],
   "source": [
    "plt.figure(figsize=(12,10))\n",
    "plt.xticks(rotation=90)\n",
    "count_of_model = uk_merc['model'].value_counts().sort_values(ascending=False)\n",
    "sns.countplot(data=uk_merc, x=uk_merc.model, hue=uk_merc.fuelType, order=count_of_model.index, dodge=False)"
   ]
  },
  {
   "cell_type": "code",
   "execution_count": 433,
   "id": "49cbddff",
   "metadata": {},
   "outputs": [],
   "source": [
    "uk_merc.to_csv('uk_mercedes_clean.csv')"
   ]
  },
  {
   "cell_type": "code",
   "execution_count": null,
   "id": "e9b875c1",
   "metadata": {},
   "outputs": [],
   "source": []
  }
 ],
 "metadata": {
  "kernelspec": {
   "display_name": "Python 3 (ipykernel)",
   "language": "python",
   "name": "python3"
  },
  "language_info": {
   "codemirror_mode": {
    "name": "ipython",
    "version": 3
   },
   "file_extension": ".py",
   "mimetype": "text/x-python",
   "name": "python",
   "nbconvert_exporter": "python",
   "pygments_lexer": "ipython3",
   "version": "3.9.7"
  }
 },
 "nbformat": 4,
 "nbformat_minor": 5
}
